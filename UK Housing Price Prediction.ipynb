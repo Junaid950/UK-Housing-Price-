{
 "cells": [
  {
   "cell_type": "markdown",
   "metadata": {},
   "source": [
    "UK Housing Price prediction Using ML Regressions"
   ]
  },
  {
   "cell_type": "markdown",
   "metadata": {},
   "source": [
    "This dataset is UK housing dataset which is quite large data.Here I had three features and target value was price.Along with that  I had the data in the continuous it means that I have to use the Regression and based on this I used the Regression models."
   ]
  },
  {
   "cell_type": "markdown",
   "metadata": {},
   "source": [
    "## Import Libraries"
   ]
  },
  {
   "cell_type": "code",
   "execution_count": 54,
   "metadata": {},
   "outputs": [],
   "source": [
    "import numpy as np\n",
    "import pandas as pd\n",
    "import seaborn as sns\n",
    "import matplotlib.pyplot as plt\n",
    "import plotly.graph_objs as go\n",
    "\n",
    "from datetime import datetime\n",
    "from pandarallel import pandarallel\n",
    "from imblearn.over_sampling import SMOTE\n",
    "from sklearn.preprocessing import LabelEncoder\n",
    "from sklearn.model_selection import train_test_split\n",
    "from sklearn.linear_model import LinearRegression\n",
    "from sklearn.preprocessing import StandardScaler\n",
    "from sklearn.preprocessing import PolynomialFeatures\n",
    "from sklearn.model_selection import cross_val_score\n",
    "from sklearn.model_selection import KFold \n",
    "from sklearn.pipeline import Pipeline\n",
    "from sklearn.metrics import mean_squared_error\n",
    "from sklearn.preprocessing import OneHotEncoder\n",
    "from sklearn.ensemble import IsolationForest\n",
    "from sklearn.metrics import mean_absolute_error\n",
    "from sklearn.tree import DecisionTreeRegressor\n",
    "from sklearn.ensemble import RandomForestRegressor\n",
    "from sklearn.ensemble import IsolationForest\n",
    "from sklearn.ensemble import RandomForestClassifier\n",
    "from plotly.offline import iplot\n",
    "from IPython.display import IFrame\n",
    "from sklearn import metrics\n",
    "from sklearn import metrics\n",
    "from sklearn.metrics import mean_squared_error,mean_absolute_error,explained_variance_score, r2_score"
   ]
  },
  {
   "cell_type": "markdown",
   "metadata": {},
   "source": [
    "# Loading Data + EDA"
   ]
  },
  {
   "cell_type": "code",
   "execution_count": 2,
   "metadata": {},
   "outputs": [
    {
     "data": {
      "text/html": [
       "<div>\n",
       "<style scoped>\n",
       "    .dataframe tbody tr th:only-of-type {\n",
       "        vertical-align: middle;\n",
       "    }\n",
       "\n",
       "    .dataframe tbody tr th {\n",
       "        vertical-align: top;\n",
       "    }\n",
       "\n",
       "    .dataframe thead th {\n",
       "        text-align: right;\n",
       "    }\n",
       "</style>\n",
       "<table border=\"1\" class=\"dataframe\">\n",
       "  <thead>\n",
       "    <tr style=\"text-align: right;\">\n",
       "      <th></th>\n",
       "      <th>{3DD6D1E9-68E3-4646-8682-FD7DB9884D97}</th>\n",
       "      <th>76000</th>\n",
       "      <th>1995-11-30 00:00</th>\n",
       "      <th>RG21 5RX</th>\n",
       "      <th>T</th>\n",
       "      <th>N</th>\n",
       "      <th>F</th>\n",
       "      <th>1</th>\n",
       "      <th>Unnamed: 8</th>\n",
       "      <th>LANSLEY ROAD</th>\n",
       "      <th>BASINGSTOKE</th>\n",
       "      <th>BASINGSTOKE.1</th>\n",
       "      <th>BASINGSTOKE AND DEANE</th>\n",
       "      <th>HAMPSHIRE</th>\n",
       "      <th>A</th>\n",
       "      <th>A.1</th>\n",
       "    </tr>\n",
       "  </thead>\n",
       "  <tbody>\n",
       "    <tr>\n",
       "      <th>0</th>\n",
       "      <td>{82899FB9-496F-4FA3-8249-F6811A87F376}</td>\n",
       "      <td>48000</td>\n",
       "      <td>1995-01-27 00:00</td>\n",
       "      <td>LA1 1SY</td>\n",
       "      <td>T</td>\n",
       "      <td>N</td>\n",
       "      <td>F</td>\n",
       "      <td>26</td>\n",
       "      <td>NaN</td>\n",
       "      <td>PORTLAND STREET</td>\n",
       "      <td>LANCASTER</td>\n",
       "      <td>LANCASTER</td>\n",
       "      <td>LANCASTER</td>\n",
       "      <td>LANCASHIRE</td>\n",
       "      <td>A</td>\n",
       "      <td>A</td>\n",
       "    </tr>\n",
       "    <tr>\n",
       "      <th>1</th>\n",
       "      <td>{B7B48D70-7FEB-437B-9EAC-F681547AB62F}</td>\n",
       "      <td>59000</td>\n",
       "      <td>1995-11-17 00:00</td>\n",
       "      <td>PL3 6DR</td>\n",
       "      <td>S</td>\n",
       "      <td>N</td>\n",
       "      <td>F</td>\n",
       "      <td>26</td>\n",
       "      <td>NaN</td>\n",
       "      <td>FAIRVIEW AVENUE</td>\n",
       "      <td>PLYMOUTH</td>\n",
       "      <td>PLYMOUTH</td>\n",
       "      <td>PLYMOUTH</td>\n",
       "      <td>DEVON</td>\n",
       "      <td>A</td>\n",
       "      <td>A</td>\n",
       "    </tr>\n",
       "    <tr>\n",
       "      <th>2</th>\n",
       "      <td>{B75382B6-4B58-4284-A890-FD7E1C297E5D}</td>\n",
       "      <td>69950</td>\n",
       "      <td>1995-04-06 00:00</td>\n",
       "      <td>TN2 3HU</td>\n",
       "      <td>S</td>\n",
       "      <td>N</td>\n",
       "      <td>F</td>\n",
       "      <td>227</td>\n",
       "      <td>NaN</td>\n",
       "      <td>GREGGS WOOD ROAD</td>\n",
       "      <td>TUNBRIDGE WELLS</td>\n",
       "      <td>TUNBRIDGE WELLS</td>\n",
       "      <td>TUNBRIDGE WELLS</td>\n",
       "      <td>KENT</td>\n",
       "      <td>A</td>\n",
       "      <td>A</td>\n",
       "    </tr>\n",
       "    <tr>\n",
       "      <th>3</th>\n",
       "      <td>{B6F968FF-CEB2-4A18-B212-EF6CFE08958D}</td>\n",
       "      <td>57850</td>\n",
       "      <td>1995-12-15 00:00</td>\n",
       "      <td>HX7 5DY</td>\n",
       "      <td>S</td>\n",
       "      <td>Y</td>\n",
       "      <td>F</td>\n",
       "      <td>3</td>\n",
       "      <td>NaN</td>\n",
       "      <td>STREAMSIDE FOLD</td>\n",
       "      <td>MYTHOLMROYD</td>\n",
       "      <td>HEBDEN BRIDGE</td>\n",
       "      <td>CALDERDALE</td>\n",
       "      <td>WEST YORKSHIRE</td>\n",
       "      <td>A</td>\n",
       "      <td>A</td>\n",
       "    </tr>\n",
       "    <tr>\n",
       "      <th>4</th>\n",
       "      <td>{D8DCC736-4537-41E2-A821-EF6CFF2551A9}</td>\n",
       "      <td>49950</td>\n",
       "      <td>1995-05-26 00:00</td>\n",
       "      <td>S10 1PG</td>\n",
       "      <td>T</td>\n",
       "      <td>N</td>\n",
       "      <td>F</td>\n",
       "      <td>139</td>\n",
       "      <td>NaN</td>\n",
       "      <td>HEAVYGATE ROAD</td>\n",
       "      <td>SHEFFIELD</td>\n",
       "      <td>SHEFFIELD</td>\n",
       "      <td>SHEFFIELD</td>\n",
       "      <td>SOUTH YORKSHIRE</td>\n",
       "      <td>A</td>\n",
       "      <td>A</td>\n",
       "    </tr>\n",
       "  </tbody>\n",
       "</table>\n",
       "</div>"
      ],
      "text/plain": [
       "   {3DD6D1E9-68E3-4646-8682-FD7DB9884D97}  76000  1995-11-30 00:00 RG21 5RX  \\\n",
       "0  {82899FB9-496F-4FA3-8249-F6811A87F376}  48000  1995-01-27 00:00  LA1 1SY   \n",
       "1  {B7B48D70-7FEB-437B-9EAC-F681547AB62F}  59000  1995-11-17 00:00  PL3 6DR   \n",
       "2  {B75382B6-4B58-4284-A890-FD7E1C297E5D}  69950  1995-04-06 00:00  TN2 3HU   \n",
       "3  {B6F968FF-CEB2-4A18-B212-EF6CFE08958D}  57850  1995-12-15 00:00  HX7 5DY   \n",
       "4  {D8DCC736-4537-41E2-A821-EF6CFF2551A9}  49950  1995-05-26 00:00  S10 1PG   \n",
       "\n",
       "   T  N  F    1 Unnamed: 8      LANSLEY ROAD      BASINGSTOKE  \\\n",
       "0  T  N  F   26        NaN   PORTLAND STREET        LANCASTER   \n",
       "1  S  N  F   26        NaN   FAIRVIEW AVENUE         PLYMOUTH   \n",
       "2  S  N  F  227        NaN  GREGGS WOOD ROAD  TUNBRIDGE WELLS   \n",
       "3  S  Y  F    3        NaN   STREAMSIDE FOLD      MYTHOLMROYD   \n",
       "4  T  N  F  139        NaN    HEAVYGATE ROAD        SHEFFIELD   \n",
       "\n",
       "     BASINGSTOKE.1 BASINGSTOKE AND DEANE        HAMPSHIRE  A A.1  \n",
       "0        LANCASTER             LANCASTER       LANCASHIRE  A   A  \n",
       "1         PLYMOUTH              PLYMOUTH            DEVON  A   A  \n",
       "2  TUNBRIDGE WELLS       TUNBRIDGE WELLS             KENT  A   A  \n",
       "3    HEBDEN BRIDGE            CALDERDALE   WEST YORKSHIRE  A   A  \n",
       "4        SHEFFIELD             SHEFFIELD  SOUTH YORKSHIRE  A   A  "
      ]
     },
     "metadata": {},
     "output_type": "display_data"
    },
    {
     "name": "stdout",
     "output_type": "stream",
     "text": [
      "Shape of train_data : (27450498, 16)\n"
     ]
    }
   ],
   "source": [
    "#Handling Missing Values\n",
    "missing_value_formats = [\"n.a.\",\"?\",\"NA\",\"n/a\", \"na\", \"--\",\"-\",\"n.a\", \"am\", '[]', \"?:?\", \"['']\", \"unknown\", \"??:??\"]\n",
    "df = pd.read_csv(\"pp-complete.csv\", na_values = missing_value_formats)\n",
    "# \n",
    "display(df.head(5))\n",
    "print(\"Shape of train_data :\", df.shape)"
   ]
  },
  {
   "cell_type": "code",
   "execution_count": 3,
   "metadata": {},
   "outputs": [],
   "source": [
    "df.rename(columns={'{3DD6D1E9-68E3-4646-8682-FD7DB9884D97}': 'Transaction Unique Identifier', '76000': 'Price','1995-11-30 00:00':'Date of Transfer','RG21 5RX':'PostCode','T':'Property_type','N':'Old/New','F':'Duration','1':'House Number','Unnamed: 8':'Flat Type','LANSLEY ROAD':'Street','BASINGSTOKE':'Locality','BASINGSTOKE AND DEANE':'District','HAMPSHIRE':'County','BASINGSTOKE.1':'Town/City','A':'PPDCategory Type','A.1':'Record Status - monthly file only'}, inplace=True)"
   ]
  },
  {
   "cell_type": "code",
   "execution_count": 4,
   "metadata": {},
   "outputs": [
    {
     "data": {
      "text/html": [
       "<div>\n",
       "<style scoped>\n",
       "    .dataframe tbody tr th:only-of-type {\n",
       "        vertical-align: middle;\n",
       "    }\n",
       "\n",
       "    .dataframe tbody tr th {\n",
       "        vertical-align: top;\n",
       "    }\n",
       "\n",
       "    .dataframe thead th {\n",
       "        text-align: right;\n",
       "    }\n",
       "</style>\n",
       "<table border=\"1\" class=\"dataframe\">\n",
       "  <thead>\n",
       "    <tr style=\"text-align: right;\">\n",
       "      <th></th>\n",
       "      <th>Transaction Unique Identifier</th>\n",
       "      <th>Price</th>\n",
       "      <th>Date of Transfer</th>\n",
       "      <th>PostCode</th>\n",
       "      <th>Property_type</th>\n",
       "      <th>Old/New</th>\n",
       "      <th>Duration</th>\n",
       "      <th>House Number</th>\n",
       "      <th>Flat Type</th>\n",
       "      <th>Street</th>\n",
       "      <th>Locality</th>\n",
       "      <th>Town/City</th>\n",
       "      <th>District</th>\n",
       "      <th>County</th>\n",
       "      <th>PPDCategory Type</th>\n",
       "      <th>Record Status - monthly file only</th>\n",
       "    </tr>\n",
       "  </thead>\n",
       "  <tbody>\n",
       "    <tr>\n",
       "      <th>0</th>\n",
       "      <td>{82899FB9-496F-4FA3-8249-F6811A87F376}</td>\n",
       "      <td>48000</td>\n",
       "      <td>1995-01-27 00:00</td>\n",
       "      <td>LA1 1SY</td>\n",
       "      <td>T</td>\n",
       "      <td>N</td>\n",
       "      <td>F</td>\n",
       "      <td>26</td>\n",
       "      <td>NaN</td>\n",
       "      <td>PORTLAND STREET</td>\n",
       "      <td>LANCASTER</td>\n",
       "      <td>LANCASTER</td>\n",
       "      <td>LANCASTER</td>\n",
       "      <td>LANCASHIRE</td>\n",
       "      <td>A</td>\n",
       "      <td>A</td>\n",
       "    </tr>\n",
       "    <tr>\n",
       "      <th>1</th>\n",
       "      <td>{B7B48D70-7FEB-437B-9EAC-F681547AB62F}</td>\n",
       "      <td>59000</td>\n",
       "      <td>1995-11-17 00:00</td>\n",
       "      <td>PL3 6DR</td>\n",
       "      <td>S</td>\n",
       "      <td>N</td>\n",
       "      <td>F</td>\n",
       "      <td>26</td>\n",
       "      <td>NaN</td>\n",
       "      <td>FAIRVIEW AVENUE</td>\n",
       "      <td>PLYMOUTH</td>\n",
       "      <td>PLYMOUTH</td>\n",
       "      <td>PLYMOUTH</td>\n",
       "      <td>DEVON</td>\n",
       "      <td>A</td>\n",
       "      <td>A</td>\n",
       "    </tr>\n",
       "  </tbody>\n",
       "</table>\n",
       "</div>"
      ],
      "text/plain": [
       "            Transaction Unique Identifier  Price  Date of Transfer PostCode  \\\n",
       "0  {82899FB9-496F-4FA3-8249-F6811A87F376}  48000  1995-01-27 00:00  LA1 1SY   \n",
       "1  {B7B48D70-7FEB-437B-9EAC-F681547AB62F}  59000  1995-11-17 00:00  PL3 6DR   \n",
       "\n",
       "  Property_type Old/New Duration House Number Flat Type           Street  \\\n",
       "0             T       N        F           26       NaN  PORTLAND STREET   \n",
       "1             S       N        F           26       NaN  FAIRVIEW AVENUE   \n",
       "\n",
       "    Locality  Town/City   District      County PPDCategory Type  \\\n",
       "0  LANCASTER  LANCASTER  LANCASTER  LANCASHIRE                A   \n",
       "1   PLYMOUTH   PLYMOUTH   PLYMOUTH       DEVON                A   \n",
       "\n",
       "  Record Status - monthly file only  \n",
       "0                                 A  \n",
       "1                                 A  "
      ]
     },
     "execution_count": 4,
     "metadata": {},
     "output_type": "execute_result"
    }
   ],
   "source": [
    "df.head(2)"
   ]
  },
  {
   "cell_type": "code",
   "execution_count": 5,
   "metadata": {},
   "outputs": [
    {
     "data": {
      "text/plain": [
       "Index(['Transaction Unique Identifier', 'Price', 'Date of Transfer',\n",
       "       'PostCode', 'Property_type', 'Old/New', 'Duration', 'House Number',\n",
       "       'Flat Type', 'Street', 'Locality', 'Town/City', 'District', 'County',\n",
       "       'PPDCategory Type', 'Record Status - monthly file only'],\n",
       "      dtype='object')"
      ]
     },
     "execution_count": 5,
     "metadata": {},
     "output_type": "execute_result"
    }
   ],
   "source": [
    "df.columns"
   ]
  },
  {
   "cell_type": "code",
   "execution_count": 6,
   "metadata": {},
   "outputs": [
    {
     "data": {
      "text/plain": [
       "Transaction Unique Identifier        27450498\n",
       "Price                                27450498\n",
       "Date of Transfer                     27450498\n",
       "PostCode                             27406130\n",
       "Property_type                        27450498\n",
       "Old/New                              27450498\n",
       "Duration                             27450498\n",
       "House Number                         27446306\n",
       "Flat Type                             3213996\n",
       "Street                               27017876\n",
       "Locality                             17877321\n",
       "Town/City                            27450498\n",
       "District                             27450498\n",
       "County                               27450498\n",
       "PPDCategory Type                     27450498\n",
       "Record Status - monthly file only    27450498\n",
       "dtype: int64"
      ]
     },
     "execution_count": 6,
     "metadata": {},
     "output_type": "execute_result"
    }
   ],
   "source": [
    "df.count()"
   ]
  },
  {
   "cell_type": "markdown",
   "metadata": {},
   "source": [
    "# Data Cleansing"
   ]
  },
  {
   "cell_type": "code",
   "execution_count": 7,
   "metadata": {},
   "outputs": [
    {
     "data": {
      "text/plain": [
       "Transaction Unique Identifier               0\n",
       "Price                                       0\n",
       "Date of Transfer                            0\n",
       "PostCode                                44368\n",
       "Property_type                               0\n",
       "Old/New                                     0\n",
       "Duration                                    0\n",
       "House Number                             4192\n",
       "Flat Type                            24236502\n",
       "Street                                 432622\n",
       "Locality                              9573177\n",
       "Town/City                                   0\n",
       "District                                    0\n",
       "County                                      0\n",
       "PPDCategory Type                            0\n",
       "Record Status - monthly file only           0\n",
       "dtype: int64"
      ]
     },
     "execution_count": 7,
     "metadata": {},
     "output_type": "execute_result"
    }
   ],
   "source": [
    "df.isnull().sum()"
   ]
  },
  {
   "cell_type": "markdown",
   "metadata": {},
   "source": [
    "## Droping Columns"
   ]
  },
  {
   "cell_type": "markdown",
   "metadata": {},
   "source": [
    "Dropping the unnessary columns from the dataset which dont have much impact on the target"
   ]
  },
  {
   "cell_type": "code",
   "execution_count": 8,
   "metadata": {},
   "outputs": [
    {
     "data": {
      "text/html": [
       "<div>\n",
       "<style scoped>\n",
       "    .dataframe tbody tr th:only-of-type {\n",
       "        vertical-align: middle;\n",
       "    }\n",
       "\n",
       "    .dataframe tbody tr th {\n",
       "        vertical-align: top;\n",
       "    }\n",
       "\n",
       "    .dataframe thead th {\n",
       "        text-align: right;\n",
       "    }\n",
       "</style>\n",
       "<table border=\"1\" class=\"dataframe\">\n",
       "  <thead>\n",
       "    <tr style=\"text-align: right;\">\n",
       "      <th></th>\n",
       "      <th>Price</th>\n",
       "      <th>Date of Transfer</th>\n",
       "      <th>PostCode</th>\n",
       "      <th>Property_type</th>\n",
       "      <th>Old/New</th>\n",
       "      <th>Duration</th>\n",
       "      <th>House Number</th>\n",
       "      <th>Flat Type</th>\n",
       "      <th>Street</th>\n",
       "      <th>Locality</th>\n",
       "      <th>Town/City</th>\n",
       "      <th>District</th>\n",
       "      <th>County</th>\n",
       "    </tr>\n",
       "  </thead>\n",
       "  <tbody>\n",
       "    <tr>\n",
       "      <th>0</th>\n",
       "      <td>48000</td>\n",
       "      <td>1995-01-27 00:00</td>\n",
       "      <td>LA1 1SY</td>\n",
       "      <td>T</td>\n",
       "      <td>N</td>\n",
       "      <td>F</td>\n",
       "      <td>26</td>\n",
       "      <td>NaN</td>\n",
       "      <td>PORTLAND STREET</td>\n",
       "      <td>LANCASTER</td>\n",
       "      <td>LANCASTER</td>\n",
       "      <td>LANCASTER</td>\n",
       "      <td>LANCASHIRE</td>\n",
       "    </tr>\n",
       "    <tr>\n",
       "      <th>1</th>\n",
       "      <td>59000</td>\n",
       "      <td>1995-11-17 00:00</td>\n",
       "      <td>PL3 6DR</td>\n",
       "      <td>S</td>\n",
       "      <td>N</td>\n",
       "      <td>F</td>\n",
       "      <td>26</td>\n",
       "      <td>NaN</td>\n",
       "      <td>FAIRVIEW AVENUE</td>\n",
       "      <td>PLYMOUTH</td>\n",
       "      <td>PLYMOUTH</td>\n",
       "      <td>PLYMOUTH</td>\n",
       "      <td>DEVON</td>\n",
       "    </tr>\n",
       "    <tr>\n",
       "      <th>2</th>\n",
       "      <td>69950</td>\n",
       "      <td>1995-04-06 00:00</td>\n",
       "      <td>TN2 3HU</td>\n",
       "      <td>S</td>\n",
       "      <td>N</td>\n",
       "      <td>F</td>\n",
       "      <td>227</td>\n",
       "      <td>NaN</td>\n",
       "      <td>GREGGS WOOD ROAD</td>\n",
       "      <td>TUNBRIDGE WELLS</td>\n",
       "      <td>TUNBRIDGE WELLS</td>\n",
       "      <td>TUNBRIDGE WELLS</td>\n",
       "      <td>KENT</td>\n",
       "    </tr>\n",
       "    <tr>\n",
       "      <th>3</th>\n",
       "      <td>57850</td>\n",
       "      <td>1995-12-15 00:00</td>\n",
       "      <td>HX7 5DY</td>\n",
       "      <td>S</td>\n",
       "      <td>Y</td>\n",
       "      <td>F</td>\n",
       "      <td>3</td>\n",
       "      <td>NaN</td>\n",
       "      <td>STREAMSIDE FOLD</td>\n",
       "      <td>MYTHOLMROYD</td>\n",
       "      <td>HEBDEN BRIDGE</td>\n",
       "      <td>CALDERDALE</td>\n",
       "      <td>WEST YORKSHIRE</td>\n",
       "    </tr>\n",
       "    <tr>\n",
       "      <th>4</th>\n",
       "      <td>49950</td>\n",
       "      <td>1995-05-26 00:00</td>\n",
       "      <td>S10 1PG</td>\n",
       "      <td>T</td>\n",
       "      <td>N</td>\n",
       "      <td>F</td>\n",
       "      <td>139</td>\n",
       "      <td>NaN</td>\n",
       "      <td>HEAVYGATE ROAD</td>\n",
       "      <td>SHEFFIELD</td>\n",
       "      <td>SHEFFIELD</td>\n",
       "      <td>SHEFFIELD</td>\n",
       "      <td>SOUTH YORKSHIRE</td>\n",
       "    </tr>\n",
       "  </tbody>\n",
       "</table>\n",
       "</div>"
      ],
      "text/plain": [
       "   Price  Date of Transfer PostCode Property_type Old/New Duration  \\\n",
       "0  48000  1995-01-27 00:00  LA1 1SY             T       N        F   \n",
       "1  59000  1995-11-17 00:00  PL3 6DR             S       N        F   \n",
       "2  69950  1995-04-06 00:00  TN2 3HU             S       N        F   \n",
       "3  57850  1995-12-15 00:00  HX7 5DY             S       Y        F   \n",
       "4  49950  1995-05-26 00:00  S10 1PG             T       N        F   \n",
       "\n",
       "  House Number Flat Type            Street         Locality        Town/City  \\\n",
       "0           26       NaN   PORTLAND STREET        LANCASTER        LANCASTER   \n",
       "1           26       NaN   FAIRVIEW AVENUE         PLYMOUTH         PLYMOUTH   \n",
       "2          227       NaN  GREGGS WOOD ROAD  TUNBRIDGE WELLS  TUNBRIDGE WELLS   \n",
       "3            3       NaN   STREAMSIDE FOLD      MYTHOLMROYD    HEBDEN BRIDGE   \n",
       "4          139       NaN    HEAVYGATE ROAD        SHEFFIELD        SHEFFIELD   \n",
       "\n",
       "          District           County  \n",
       "0        LANCASTER       LANCASHIRE  \n",
       "1         PLYMOUTH            DEVON  \n",
       "2  TUNBRIDGE WELLS             KENT  \n",
       "3       CALDERDALE   WEST YORKSHIRE  \n",
       "4        SHEFFIELD  SOUTH YORKSHIRE  "
      ]
     },
     "execution_count": 8,
     "metadata": {},
     "output_type": "execute_result"
    }
   ],
   "source": [
    "df.drop(columns = 'Transaction Unique Identifier', axis = 1, inplace = True)\n",
    "\n",
    "df.drop(columns = 'PPDCategory Type', axis = 1, inplace = True)\n",
    "df.drop(columns = 'Record Status - monthly file only', axis = 1, inplace = True)\n",
    "\n",
    "df.head()"
   ]
  },
  {
   "cell_type": "code",
   "execution_count": 9,
   "metadata": {},
   "outputs": [
    {
     "data": {
      "text/plain": [
       "Index(['Price', 'Date of Transfer', 'PostCode', 'Property_type', 'Old/New',\n",
       "       'Duration', 'House Number', 'Flat Type', 'Street', 'Locality',\n",
       "       'Town/City', 'District', 'County'],\n",
       "      dtype='object')"
      ]
     },
     "execution_count": 9,
     "metadata": {},
     "output_type": "execute_result"
    }
   ],
   "source": [
    "df.columns"
   ]
  },
  {
   "cell_type": "markdown",
   "metadata": {},
   "source": [
    "## Removing Extra Time Stamp Text"
   ]
  },
  {
   "cell_type": "code",
   "execution_count": 10,
   "metadata": {},
   "outputs": [],
   "source": [
    "df['Date of Transfer'] = df['Date of Transfer'].astype(\"string\")\n",
    "# df['Date of Transfer'] = pd.to_datetime(df['Date of Transfer'])\n",
    "\n",
    "df['Date of Transfer'] = df['Date of Transfer'].str.replace(' 00:00', '')"
   ]
  },
  {
   "cell_type": "code",
   "execution_count": 11,
   "metadata": {},
   "outputs": [
    {
     "data": {
      "text/html": [
       "<div>\n",
       "<style scoped>\n",
       "    .dataframe tbody tr th:only-of-type {\n",
       "        vertical-align: middle;\n",
       "    }\n",
       "\n",
       "    .dataframe tbody tr th {\n",
       "        vertical-align: top;\n",
       "    }\n",
       "\n",
       "    .dataframe thead th {\n",
       "        text-align: right;\n",
       "    }\n",
       "</style>\n",
       "<table border=\"1\" class=\"dataframe\">\n",
       "  <thead>\n",
       "    <tr style=\"text-align: right;\">\n",
       "      <th></th>\n",
       "      <th>Price</th>\n",
       "      <th>Date of Transfer</th>\n",
       "      <th>PostCode</th>\n",
       "      <th>Property_type</th>\n",
       "      <th>Old/New</th>\n",
       "      <th>Duration</th>\n",
       "      <th>House Number</th>\n",
       "      <th>Flat Type</th>\n",
       "      <th>Street</th>\n",
       "      <th>Locality</th>\n",
       "      <th>Town/City</th>\n",
       "      <th>District</th>\n",
       "      <th>County</th>\n",
       "    </tr>\n",
       "  </thead>\n",
       "  <tbody>\n",
       "    <tr>\n",
       "      <th>0</th>\n",
       "      <td>48000</td>\n",
       "      <td>1995-01-27</td>\n",
       "      <td>LA1 1SY</td>\n",
       "      <td>T</td>\n",
       "      <td>N</td>\n",
       "      <td>F</td>\n",
       "      <td>26</td>\n",
       "      <td>NaN</td>\n",
       "      <td>PORTLAND STREET</td>\n",
       "      <td>LANCASTER</td>\n",
       "      <td>LANCASTER</td>\n",
       "      <td>LANCASTER</td>\n",
       "      <td>LANCASHIRE</td>\n",
       "    </tr>\n",
       "    <tr>\n",
       "      <th>1</th>\n",
       "      <td>59000</td>\n",
       "      <td>1995-11-17</td>\n",
       "      <td>PL3 6DR</td>\n",
       "      <td>S</td>\n",
       "      <td>N</td>\n",
       "      <td>F</td>\n",
       "      <td>26</td>\n",
       "      <td>NaN</td>\n",
       "      <td>FAIRVIEW AVENUE</td>\n",
       "      <td>PLYMOUTH</td>\n",
       "      <td>PLYMOUTH</td>\n",
       "      <td>PLYMOUTH</td>\n",
       "      <td>DEVON</td>\n",
       "    </tr>\n",
       "  </tbody>\n",
       "</table>\n",
       "</div>"
      ],
      "text/plain": [
       "   Price Date of Transfer PostCode Property_type Old/New Duration  \\\n",
       "0  48000       1995-01-27  LA1 1SY             T       N        F   \n",
       "1  59000       1995-11-17  PL3 6DR             S       N        F   \n",
       "\n",
       "  House Number Flat Type           Street   Locality  Town/City   District  \\\n",
       "0           26       NaN  PORTLAND STREET  LANCASTER  LANCASTER  LANCASTER   \n",
       "1           26       NaN  FAIRVIEW AVENUE   PLYMOUTH   PLYMOUTH   PLYMOUTH   \n",
       "\n",
       "       County  \n",
       "0  LANCASHIRE  \n",
       "1       DEVON  "
      ]
     },
     "execution_count": 11,
     "metadata": {},
     "output_type": "execute_result"
    }
   ],
   "source": [
    "df.head(2)"
   ]
  },
  {
   "cell_type": "code",
   "execution_count": 12,
   "metadata": {
    "scrolled": true
   },
   "outputs": [],
   "source": [
    "# df.drop(['House Number', 'Flat Type', 'PostCode','Street', 'Locality','PPDCategory Type', 'Record Status - monthly file only'] ,axis=1, inplace=True)"
   ]
  },
  {
   "cell_type": "code",
   "execution_count": 13,
   "metadata": {},
   "outputs": [
    {
     "data": {
      "text/html": [
       "<div>\n",
       "<style scoped>\n",
       "    .dataframe tbody tr th:only-of-type {\n",
       "        vertical-align: middle;\n",
       "    }\n",
       "\n",
       "    .dataframe tbody tr th {\n",
       "        vertical-align: top;\n",
       "    }\n",
       "\n",
       "    .dataframe thead th {\n",
       "        text-align: right;\n",
       "    }\n",
       "</style>\n",
       "<table border=\"1\" class=\"dataframe\">\n",
       "  <thead>\n",
       "    <tr style=\"text-align: right;\">\n",
       "      <th></th>\n",
       "      <th>Total</th>\n",
       "      <th>Percent</th>\n",
       "    </tr>\n",
       "  </thead>\n",
       "  <tbody>\n",
       "    <tr>\n",
       "      <th>Flat Type</th>\n",
       "      <td>24236502</td>\n",
       "      <td>88.291666</td>\n",
       "    </tr>\n",
       "    <tr>\n",
       "      <th>Locality</th>\n",
       "      <td>9573177</td>\n",
       "      <td>34.874329</td>\n",
       "    </tr>\n",
       "    <tr>\n",
       "      <th>Street</th>\n",
       "      <td>432622</td>\n",
       "      <td>1.576008</td>\n",
       "    </tr>\n",
       "    <tr>\n",
       "      <th>PostCode</th>\n",
       "      <td>44368</td>\n",
       "      <td>0.161629</td>\n",
       "    </tr>\n",
       "    <tr>\n",
       "      <th>House Number</th>\n",
       "      <td>4192</td>\n",
       "      <td>0.015271</td>\n",
       "    </tr>\n",
       "  </tbody>\n",
       "</table>\n",
       "</div>"
      ],
      "text/plain": [
       "                 Total    Percent\n",
       "Flat Type     24236502  88.291666\n",
       "Locality       9573177  34.874329\n",
       "Street          432622   1.576008\n",
       "PostCode         44368   0.161629\n",
       "House Number      4192   0.015271"
      ]
     },
     "execution_count": 13,
     "metadata": {},
     "output_type": "execute_result"
    }
   ],
   "source": [
    "def check_null_values(df):\n",
    "    # checking missing data\n",
    "    total = df.isnull().sum().sort_values(ascending = False)\n",
    "    percent = (df.isnull().sum()/df.isnull().count()*100).sort_values(ascending = False)\n",
    "    missing_data  = pd.concat([total, percent], axis=1, keys=['Total', 'Percent'])\n",
    "    return missing_data\n",
    "\n",
    "check_null_values(df).head()"
   ]
  },
  {
   "cell_type": "markdown",
   "metadata": {},
   "source": [
    "## Convert Date into Years, Months and Days"
   ]
  },
  {
   "cell_type": "code",
   "execution_count": 14,
   "metadata": {},
   "outputs": [],
   "source": [
    "df['year'] = df['Date of Transfer'].apply(lambda x: x.split('-')[0])\n",
    "df['month'] = df['Date of Transfer'].apply(lambda x: x.split('-')[1])\n",
    "df['day_of_month'] = df['Date of Transfer'].apply(lambda x: x.split('-')[2])\n"
   ]
  },
  {
   "cell_type": "code",
   "execution_count": 15,
   "metadata": {
    "scrolled": true
   },
   "outputs": [
    {
     "data": {
      "text/html": [
       "<div>\n",
       "<style scoped>\n",
       "    .dataframe tbody tr th:only-of-type {\n",
       "        vertical-align: middle;\n",
       "    }\n",
       "\n",
       "    .dataframe tbody tr th {\n",
       "        vertical-align: top;\n",
       "    }\n",
       "\n",
       "    .dataframe thead th {\n",
       "        text-align: right;\n",
       "    }\n",
       "</style>\n",
       "<table border=\"1\" class=\"dataframe\">\n",
       "  <thead>\n",
       "    <tr style=\"text-align: right;\">\n",
       "      <th></th>\n",
       "      <th>Price</th>\n",
       "      <th>Date of Transfer</th>\n",
       "      <th>PostCode</th>\n",
       "      <th>Property_type</th>\n",
       "      <th>Old/New</th>\n",
       "      <th>Duration</th>\n",
       "      <th>House Number</th>\n",
       "      <th>Flat Type</th>\n",
       "      <th>Street</th>\n",
       "      <th>Locality</th>\n",
       "      <th>Town/City</th>\n",
       "      <th>District</th>\n",
       "      <th>County</th>\n",
       "      <th>year</th>\n",
       "      <th>month</th>\n",
       "      <th>day_of_month</th>\n",
       "    </tr>\n",
       "  </thead>\n",
       "  <tbody>\n",
       "    <tr>\n",
       "      <th>0</th>\n",
       "      <td>48000</td>\n",
       "      <td>1995-01-27</td>\n",
       "      <td>LA1 1SY</td>\n",
       "      <td>T</td>\n",
       "      <td>N</td>\n",
       "      <td>F</td>\n",
       "      <td>26</td>\n",
       "      <td>NaN</td>\n",
       "      <td>PORTLAND STREET</td>\n",
       "      <td>LANCASTER</td>\n",
       "      <td>LANCASTER</td>\n",
       "      <td>LANCASTER</td>\n",
       "      <td>LANCASHIRE</td>\n",
       "      <td>1995</td>\n",
       "      <td>01</td>\n",
       "      <td>27</td>\n",
       "    </tr>\n",
       "    <tr>\n",
       "      <th>1</th>\n",
       "      <td>59000</td>\n",
       "      <td>1995-11-17</td>\n",
       "      <td>PL3 6DR</td>\n",
       "      <td>S</td>\n",
       "      <td>N</td>\n",
       "      <td>F</td>\n",
       "      <td>26</td>\n",
       "      <td>NaN</td>\n",
       "      <td>FAIRVIEW AVENUE</td>\n",
       "      <td>PLYMOUTH</td>\n",
       "      <td>PLYMOUTH</td>\n",
       "      <td>PLYMOUTH</td>\n",
       "      <td>DEVON</td>\n",
       "      <td>1995</td>\n",
       "      <td>11</td>\n",
       "      <td>17</td>\n",
       "    </tr>\n",
       "    <tr>\n",
       "      <th>2</th>\n",
       "      <td>69950</td>\n",
       "      <td>1995-04-06</td>\n",
       "      <td>TN2 3HU</td>\n",
       "      <td>S</td>\n",
       "      <td>N</td>\n",
       "      <td>F</td>\n",
       "      <td>227</td>\n",
       "      <td>NaN</td>\n",
       "      <td>GREGGS WOOD ROAD</td>\n",
       "      <td>TUNBRIDGE WELLS</td>\n",
       "      <td>TUNBRIDGE WELLS</td>\n",
       "      <td>TUNBRIDGE WELLS</td>\n",
       "      <td>KENT</td>\n",
       "      <td>1995</td>\n",
       "      <td>04</td>\n",
       "      <td>06</td>\n",
       "    </tr>\n",
       "    <tr>\n",
       "      <th>3</th>\n",
       "      <td>57850</td>\n",
       "      <td>1995-12-15</td>\n",
       "      <td>HX7 5DY</td>\n",
       "      <td>S</td>\n",
       "      <td>Y</td>\n",
       "      <td>F</td>\n",
       "      <td>3</td>\n",
       "      <td>NaN</td>\n",
       "      <td>STREAMSIDE FOLD</td>\n",
       "      <td>MYTHOLMROYD</td>\n",
       "      <td>HEBDEN BRIDGE</td>\n",
       "      <td>CALDERDALE</td>\n",
       "      <td>WEST YORKSHIRE</td>\n",
       "      <td>1995</td>\n",
       "      <td>12</td>\n",
       "      <td>15</td>\n",
       "    </tr>\n",
       "    <tr>\n",
       "      <th>4</th>\n",
       "      <td>49950</td>\n",
       "      <td>1995-05-26</td>\n",
       "      <td>S10 1PG</td>\n",
       "      <td>T</td>\n",
       "      <td>N</td>\n",
       "      <td>F</td>\n",
       "      <td>139</td>\n",
       "      <td>NaN</td>\n",
       "      <td>HEAVYGATE ROAD</td>\n",
       "      <td>SHEFFIELD</td>\n",
       "      <td>SHEFFIELD</td>\n",
       "      <td>SHEFFIELD</td>\n",
       "      <td>SOUTH YORKSHIRE</td>\n",
       "      <td>1995</td>\n",
       "      <td>05</td>\n",
       "      <td>26</td>\n",
       "    </tr>\n",
       "  </tbody>\n",
       "</table>\n",
       "</div>"
      ],
      "text/plain": [
       "   Price Date of Transfer PostCode Property_type Old/New Duration  \\\n",
       "0  48000       1995-01-27  LA1 1SY             T       N        F   \n",
       "1  59000       1995-11-17  PL3 6DR             S       N        F   \n",
       "2  69950       1995-04-06  TN2 3HU             S       N        F   \n",
       "3  57850       1995-12-15  HX7 5DY             S       Y        F   \n",
       "4  49950       1995-05-26  S10 1PG             T       N        F   \n",
       "\n",
       "  House Number Flat Type            Street         Locality        Town/City  \\\n",
       "0           26       NaN   PORTLAND STREET        LANCASTER        LANCASTER   \n",
       "1           26       NaN   FAIRVIEW AVENUE         PLYMOUTH         PLYMOUTH   \n",
       "2          227       NaN  GREGGS WOOD ROAD  TUNBRIDGE WELLS  TUNBRIDGE WELLS   \n",
       "3            3       NaN   STREAMSIDE FOLD      MYTHOLMROYD    HEBDEN BRIDGE   \n",
       "4          139       NaN    HEAVYGATE ROAD        SHEFFIELD        SHEFFIELD   \n",
       "\n",
       "          District           County  year month day_of_month  \n",
       "0        LANCASTER       LANCASHIRE  1995    01           27  \n",
       "1         PLYMOUTH            DEVON  1995    11           17  \n",
       "2  TUNBRIDGE WELLS             KENT  1995    04           06  \n",
       "3       CALDERDALE   WEST YORKSHIRE  1995    12           15  \n",
       "4        SHEFFIELD  SOUTH YORKSHIRE  1995    05           26  "
      ]
     },
     "execution_count": 15,
     "metadata": {},
     "output_type": "execute_result"
    }
   ],
   "source": [
    "df.head(5)"
   ]
  },
  {
   "cell_type": "code",
   "execution_count": 16,
   "metadata": {
    "scrolled": false
   },
   "outputs": [
    {
     "name": "stdout",
     "output_type": "stream",
     "text": [
      "<class 'pandas.core.frame.DataFrame'>\n",
      "RangeIndex: 27450498 entries, 0 to 27450497\n",
      "Data columns (total 16 columns):\n",
      " #   Column            Dtype \n",
      "---  ------            ----- \n",
      " 0   Price             int64 \n",
      " 1   Date of Transfer  string\n",
      " 2   PostCode          object\n",
      " 3   Property_type     object\n",
      " 4   Old/New           object\n",
      " 5   Duration          object\n",
      " 6   House Number      object\n",
      " 7   Flat Type         object\n",
      " 8   Street            object\n",
      " 9   Locality          object\n",
      " 10  Town/City         object\n",
      " 11  District          object\n",
      " 12  County            object\n",
      " 13  year              object\n",
      " 14  month             object\n",
      " 15  day_of_month      object\n",
      "dtypes: int64(1), object(14), string(1)\n",
      "memory usage: 3.3+ GB\n"
     ]
    }
   ],
   "source": [
    "df.info()"
   ]
  },
  {
   "cell_type": "code",
   "execution_count": 17,
   "metadata": {
    "scrolled": true
   },
   "outputs": [
    {
     "data": {
      "text/plain": [
       "T    8260438\n",
       "S    7522784\n",
       "D    6333026\n",
       "F    4929023\n",
       "O     405227\n",
       "Name: Property_type, dtype: int64"
      ]
     },
     "execution_count": 17,
     "metadata": {},
     "output_type": "execute_result"
    }
   ],
   "source": [
    "df.Property_type.value_counts()"
   ]
  },
  {
   "cell_type": "markdown",
   "metadata": {},
   "source": [
    "Terraced Property types are more as compared to rest means people like to have these types of properties"
   ]
  },
  {
   "cell_type": "markdown",
   "metadata": {},
   "source": [
    "# Removing \"O\" from Property type "
   ]
  },
  {
   "cell_type": "markdown",
   "metadata": {},
   "source": [
    "Removing the Other properety type O from the column property type becasue it has very less value and it has not much impact on the target"
   ]
  },
  {
   "cell_type": "code",
   "execution_count": 18,
   "metadata": {},
   "outputs": [],
   "source": [
    "df = df[df['Property_type'] != 'O'].copy()"
   ]
  },
  {
   "cell_type": "code",
   "execution_count": 19,
   "metadata": {},
   "outputs": [
    {
     "data": {
      "text/html": [
       "<div>\n",
       "<style scoped>\n",
       "    .dataframe tbody tr th:only-of-type {\n",
       "        vertical-align: middle;\n",
       "    }\n",
       "\n",
       "    .dataframe tbody tr th {\n",
       "        vertical-align: top;\n",
       "    }\n",
       "\n",
       "    .dataframe thead th {\n",
       "        text-align: right;\n",
       "    }\n",
       "</style>\n",
       "<table border=\"1\" class=\"dataframe\">\n",
       "  <thead>\n",
       "    <tr style=\"text-align: right;\">\n",
       "      <th></th>\n",
       "      <th>Price</th>\n",
       "      <th>Date of Transfer</th>\n",
       "      <th>PostCode</th>\n",
       "      <th>Property_type</th>\n",
       "      <th>Old/New</th>\n",
       "      <th>Duration</th>\n",
       "      <th>House Number</th>\n",
       "      <th>Flat Type</th>\n",
       "      <th>Street</th>\n",
       "      <th>Locality</th>\n",
       "      <th>Town/City</th>\n",
       "      <th>District</th>\n",
       "      <th>County</th>\n",
       "      <th>year</th>\n",
       "      <th>month</th>\n",
       "      <th>day_of_month</th>\n",
       "    </tr>\n",
       "  </thead>\n",
       "  <tbody>\n",
       "    <tr>\n",
       "      <th>0</th>\n",
       "      <td>48000</td>\n",
       "      <td>1995-01-27</td>\n",
       "      <td>LA1 1SY</td>\n",
       "      <td>T</td>\n",
       "      <td>N</td>\n",
       "      <td>F</td>\n",
       "      <td>26</td>\n",
       "      <td>NaN</td>\n",
       "      <td>PORTLAND STREET</td>\n",
       "      <td>LANCASTER</td>\n",
       "      <td>LANCASTER</td>\n",
       "      <td>LANCASTER</td>\n",
       "      <td>LANCASHIRE</td>\n",
       "      <td>1995</td>\n",
       "      <td>01</td>\n",
       "      <td>27</td>\n",
       "    </tr>\n",
       "    <tr>\n",
       "      <th>1</th>\n",
       "      <td>59000</td>\n",
       "      <td>1995-11-17</td>\n",
       "      <td>PL3 6DR</td>\n",
       "      <td>S</td>\n",
       "      <td>N</td>\n",
       "      <td>F</td>\n",
       "      <td>26</td>\n",
       "      <td>NaN</td>\n",
       "      <td>FAIRVIEW AVENUE</td>\n",
       "      <td>PLYMOUTH</td>\n",
       "      <td>PLYMOUTH</td>\n",
       "      <td>PLYMOUTH</td>\n",
       "      <td>DEVON</td>\n",
       "      <td>1995</td>\n",
       "      <td>11</td>\n",
       "      <td>17</td>\n",
       "    </tr>\n",
       "  </tbody>\n",
       "</table>\n",
       "</div>"
      ],
      "text/plain": [
       "   Price Date of Transfer PostCode Property_type Old/New Duration  \\\n",
       "0  48000       1995-01-27  LA1 1SY             T       N        F   \n",
       "1  59000       1995-11-17  PL3 6DR             S       N        F   \n",
       "\n",
       "  House Number Flat Type           Street   Locality  Town/City   District  \\\n",
       "0           26       NaN  PORTLAND STREET  LANCASTER  LANCASTER  LANCASTER   \n",
       "1           26       NaN  FAIRVIEW AVENUE   PLYMOUTH   PLYMOUTH   PLYMOUTH   \n",
       "\n",
       "       County  year month day_of_month  \n",
       "0  LANCASHIRE  1995    01           27  \n",
       "1       DEVON  1995    11           17  "
      ]
     },
     "execution_count": 19,
     "metadata": {},
     "output_type": "execute_result"
    }
   ],
   "source": [
    "df.head(2)"
   ]
  },
  {
   "cell_type": "markdown",
   "metadata": {},
   "source": [
    "###  Number of cities:\n"
   ]
  },
  {
   "cell_type": "code",
   "execution_count": 20,
   "metadata": {},
   "outputs": [
    {
     "name": "stdout",
     "output_type": "stream",
     "text": [
      "Number of cities: 1171\n"
     ]
    }
   ],
   "source": [
    "print('Number of cities:', df['Town/City'].nunique())"
   ]
  },
  {
   "cell_type": "markdown",
   "metadata": {},
   "source": [
    "###  Number of recorded transactions for (London):\n"
   ]
  },
  {
   "cell_type": "code",
   "execution_count": 21,
   "metadata": {},
   "outputs": [
    {
     "name": "stdout",
     "output_type": "stream",
     "text": [
      "Recorded transactions in London: 2072191\n"
     ]
    }
   ],
   "source": [
    "\n",
    "print(\"Recorded transactions in London:\", df[df['Town/City'] == 'LONDON']['Price'].count())"
   ]
  },
  {
   "cell_type": "markdown",
   "metadata": {},
   "source": [
    "###  Average property price per year:\n"
   ]
  },
  {
   "cell_type": "code",
   "execution_count": 22,
   "metadata": {
    "scrolled": true
   },
   "outputs": [
    {
     "data": {
      "text/plain": [
       "year\n",
       "1995     54950\n",
       "1996     57000\n",
       "1997     60000\n",
       "1998     65000\n",
       "1999     72950\n",
       "2000     80000\n",
       "2001     90000\n",
       "2002    110000\n",
       "2003    130000\n",
       "2004    150000\n",
       "2005    157500\n",
       "2006    166000\n",
       "2007    175000\n",
       "2008    170000\n",
       "2009    168700\n",
       "2010    182000\n",
       "2011    176000\n",
       "2012    180000\n",
       "2013    184500\n",
       "2014    190000\n",
       "2015    202500\n",
       "2016    215000\n",
       "2017    225000\n",
       "2018    230000\n",
       "2019    230000\n",
       "2020    247995\n",
       "2021    265000\n",
       "2022    260000\n",
       "Name: Price, dtype: int64"
      ]
     },
     "execution_count": 22,
     "metadata": {},
     "output_type": "execute_result"
    }
   ],
   "source": [
    "df.groupby('year')['Price'].median()"
   ]
  },
  {
   "cell_type": "markdown",
   "metadata": {},
   "source": [
    "###   Minimum price per year:\n"
   ]
  },
  {
   "cell_type": "code",
   "execution_count": 23,
   "metadata": {
    "scrolled": true
   },
   "outputs": [
    {
     "data": {
      "text/plain": [
       "year\n",
       "1995        1\n",
       "1996        1\n",
       "1997        1\n",
       "1998        1\n",
       "1999        1\n",
       "2000        1\n",
       "2001        1\n",
       "2002        1\n",
       "2003      200\n",
       "2004      280\n",
       "2005     1500\n",
       "2006      100\n",
       "2007        1\n",
       "2008      200\n",
       "2009        1\n",
       "2010     3000\n",
       "2011      550\n",
       "2012     6500\n",
       "2013     1000\n",
       "2014        1\n",
       "2015      100\n",
       "2016        1\n",
       "2017        1\n",
       "2018      100\n",
       "2019        1\n",
       "2020        1\n",
       "2021        1\n",
       "2022    11000\n",
       "Name: Price, dtype: int64"
      ]
     },
     "execution_count": 23,
     "metadata": {},
     "output_type": "execute_result"
    }
   ],
   "source": [
    "df.groupby('year')['Price'].min()"
   ]
  },
  {
   "cell_type": "markdown",
   "metadata": {},
   "source": [
    "###  London house price  with respect to years:\n"
   ]
  },
  {
   "cell_type": "code",
   "execution_count": 24,
   "metadata": {},
   "outputs": [],
   "source": [
    "london_df = df[df['Town/City'] == 'LONDON'].copy()"
   ]
  },
  {
   "cell_type": "code",
   "execution_count": 25,
   "metadata": {
    "scrolled": true
   },
   "outputs": [
    {
     "data": {
      "image/png": "[encoded data removed]",
      "text/plain": [
       "<Figure size 1519.38x360 with 1 Axes>"
      ]
     },
     "metadata": {
      "needs_background": "light"
     },
     "output_type": "display_data"
    }
   ],
   "source": [
    "sns.relplot(kind = 'line', data = london_df, x = 'year', y = 'Price', hue = 'Town/City', aspect = 4);"
   ]
  },
  {
   "cell_type": "markdown",
   "metadata": {},
   "source": [
    "As it can be seen that the Prices per year are increasing which is quite usual trend and as we know that properties in LONDON are much expensive and also its detached\n"
   ]
  },
  {
   "cell_type": "markdown",
   "metadata": {},
   "source": [
    "### Transactions distribution per Property Type:"
   ]
  },
  {
   "cell_type": "code",
   "execution_count": 26,
   "metadata": {
    "scrolled": true
   },
   "outputs": [
    {
     "data": {
      "image/png": "[encoded data removed]",
      "text/plain": [
       "<Figure size 720x360 with 1 Axes>"
      ]
     },
     "metadata": {
      "needs_background": "light"
     },
     "output_type": "display_data"
    }
   ],
   "source": [
    "#  (D = Detached, S = Semi-Detached, T = Terraced, F = Flats/Maisonettes) for London\n",
    "london_df.boxplot(column = 'Price', by = 'Property_type', figsize = (10,5));"
   ]
  },
  {
   "cell_type": "markdown",
   "metadata": {},
   "source": [
    "As it can be seen that Price  on differnt Property types has some outliers which  I removed in the letter part."
   ]
  },
  {
   "cell_type": "markdown",
   "metadata": {},
   "source": [
    "###  Price distribution for London:\n",
    " "
   ]
  },
  {
   "cell_type": "code",
   "execution_count": 27,
   "metadata": {},
   "outputs": [
    {
     "data": {
      "text/plain": [
       "<AxesSubplot:xlabel='Price'>"
      ]
     },
     "execution_count": 27,
     "metadata": {},
     "output_type": "execute_result"
    },
    {
     "data": {
      "image/png": "[encoded data removed]",
      "text/plain": [
       "<Figure size 432x288 with 1 Axes>"
      ]
     },
     "metadata": {
      "needs_background": "light"
     },
     "output_type": "display_data"
    }
   ],
   "source": [
    "sns.boxplot(data = london_df, x = 'Price', linewidth=0.1 ) "
   ]
  },
  {
   "cell_type": "markdown",
   "metadata": {},
   "source": [
    "### Group median price with the year for london"
   ]
  },
  {
   "cell_type": "code",
   "execution_count": 28,
   "metadata": {},
   "outputs": [],
   "source": [
    "london_price_year_type_df = london_df.groupby(['Property_type', 'year'], as_index = False)['Price'].median()"
   ]
  },
  {
   "cell_type": "code",
   "execution_count": 29,
   "metadata": {
    "scrolled": true
   },
   "outputs": [
    {
     "data": {
      "image/png": "[encoded data removed]",
      "text/plain": [
       "<Figure size 1517.12x360 with 1 Axes>"
      ]
     },
     "metadata": {
      "needs_background": "light"
     },
     "output_type": "display_data"
    }
   ],
   "source": [
    "sns.relplot(kind = 'line', data = london_price_year_type_df, \n",
    "            x = 'year', y = 'Price', hue = 'Property_type', aspect = 4);"
   ]
  },
  {
   "cell_type": "markdown",
   "metadata": {},
   "source": [
    "In London the property_type values over the year and trend shows that Detached property types have much worth over the years as compared to rest."
   ]
  },
  {
   "cell_type": "markdown",
   "metadata": {},
   "source": [
    "### Top 50 most valued Towns on basis of investments done:"
   ]
  },
  {
   "cell_type": "code",
   "execution_count": 30,
   "metadata": {},
   "outputs": [
    {
     "data": {
      "image/png": "[encoded data removed]",
      "text/plain": [
       "<Figure size 1152x432 with 1 Axes>"
      ]
     },
     "metadata": {
      "needs_background": "light"
     },
     "output_type": "display_data"
    }
   ],
   "source": [
    "df.groupby(df['Town/City'])['Price'].sum().sort_values(ascending = False)[:50].plot(\n",
    "    kind = \"bar\",grid = True, figsize = (16,6));\n",
    "\n"
   ]
  },
  {
   "cell_type": "markdown",
   "metadata": {},
   "source": [
    "London is leading here interms of investments that has been done as compared to other cities of UK"
   ]
  },
  {
   "cell_type": "markdown",
   "metadata": {},
   "source": [
    "### Top 50 most valued Towns on basis of investments done (median value)"
   ]
  },
  {
   "cell_type": "code",
   "execution_count": 31,
   "metadata": {},
   "outputs": [
    {
     "data": {
      "image/png": "[encoded data removed]",
      "text/plain": [
       "<Figure size 1152x432 with 1 Axes>"
      ]
     },
     "metadata": {
      "needs_background": "light"
     },
     "output_type": "display_data"
    }
   ],
   "source": [
    "df.groupby(df['Town/City'])['Price'].median().sort_values(ascending = False)[:50].plot(\n",
    "    kind = \"bar\",grid = True, figsize = (16,6));"
   ]
  },
  {
   "cell_type": "markdown",
   "metadata": {},
   "source": [
    "### Top 50 most valued Towns based on 'NEW' investments done"
   ]
  },
  {
   "cell_type": "code",
   "execution_count": 32,
   "metadata": {},
   "outputs": [
    {
     "data": {
      "image/png": "[encoded data removed]",
      "text/plain": [
       "<Figure size 1152x432 with 1 Axes>"
      ]
     },
     "metadata": {
      "needs_background": "light"
     },
     "output_type": "display_data"
    }
   ],
   "source": [
    "new_properties_df = df[df['Old/New'] == 'Y']\n",
    "\n",
    "new_properties_df.groupby(new_properties_df['Town/City'])['Price'].sum().sort_values(ascending=False)[:50].plot(\n",
    "    kind = \"bar\", grid = True, figsize = (16,6));\n",
    "\n"
   ]
  },
  {
   "cell_type": "markdown",
   "metadata": {},
   "source": [
    "Interms of New investments London is also leading here."
   ]
  },
  {
   "cell_type": "markdown",
   "metadata": {},
   "source": [
    "### Top 50 most valued Towns based on 'NEW' investments done (median value) "
   ]
  },
  {
   "cell_type": "code",
   "execution_count": 33,
   "metadata": {
    "scrolled": true
   },
   "outputs": [
    {
     "data": {
      "image/png": "[encoded data removed]",
      "text/plain": [
       "<Figure size 1152x432 with 1 Axes>"
      ]
     },
     "metadata": {
      "needs_background": "light"
     },
     "output_type": "display_data"
    }
   ],
   "source": [
    "new_properties_df.groupby(new_properties_df['Town/City'])['Price'].median().sort_values(ascending=False)[:50].plot(\n",
    "    kind = \"bar\",grid = True, figsize = (16,6));"
   ]
  },
  {
   "cell_type": "markdown",
   "metadata": {},
   "source": [
    "Interms of town the CHALFONT ST GILES is leading"
   ]
  },
  {
   "cell_type": "code",
   "execution_count": 34,
   "metadata": {},
   "outputs": [
    {
     "data": {
      "text/html": [
       "<div>\n",
       "<style scoped>\n",
       "    .dataframe tbody tr th:only-of-type {\n",
       "        vertical-align: middle;\n",
       "    }\n",
       "\n",
       "    .dataframe tbody tr th {\n",
       "        vertical-align: top;\n",
       "    }\n",
       "\n",
       "    .dataframe thead th {\n",
       "        text-align: right;\n",
       "    }\n",
       "</style>\n",
       "<table border=\"1\" class=\"dataframe\">\n",
       "  <thead>\n",
       "    <tr style=\"text-align: right;\">\n",
       "      <th></th>\n",
       "      <th>Price</th>\n",
       "      <th>Date of Transfer</th>\n",
       "      <th>PostCode</th>\n",
       "      <th>Property_type</th>\n",
       "      <th>Old/New</th>\n",
       "      <th>Duration</th>\n",
       "      <th>House Number</th>\n",
       "      <th>Flat Type</th>\n",
       "      <th>Street</th>\n",
       "      <th>Locality</th>\n",
       "      <th>Town/City</th>\n",
       "      <th>District</th>\n",
       "      <th>County</th>\n",
       "      <th>year</th>\n",
       "      <th>month</th>\n",
       "      <th>day_of_month</th>\n",
       "    </tr>\n",
       "  </thead>\n",
       "  <tbody>\n",
       "    <tr>\n",
       "      <th>0</th>\n",
       "      <td>48000</td>\n",
       "      <td>1995-01-27</td>\n",
       "      <td>LA1 1SY</td>\n",
       "      <td>T</td>\n",
       "      <td>N</td>\n",
       "      <td>F</td>\n",
       "      <td>26</td>\n",
       "      <td>NaN</td>\n",
       "      <td>PORTLAND STREET</td>\n",
       "      <td>LANCASTER</td>\n",
       "      <td>LANCASTER</td>\n",
       "      <td>LANCASTER</td>\n",
       "      <td>LANCASHIRE</td>\n",
       "      <td>1995</td>\n",
       "      <td>01</td>\n",
       "      <td>27</td>\n",
       "    </tr>\n",
       "    <tr>\n",
       "      <th>1</th>\n",
       "      <td>59000</td>\n",
       "      <td>1995-11-17</td>\n",
       "      <td>PL3 6DR</td>\n",
       "      <td>S</td>\n",
       "      <td>N</td>\n",
       "      <td>F</td>\n",
       "      <td>26</td>\n",
       "      <td>NaN</td>\n",
       "      <td>FAIRVIEW AVENUE</td>\n",
       "      <td>PLYMOUTH</td>\n",
       "      <td>PLYMOUTH</td>\n",
       "      <td>PLYMOUTH</td>\n",
       "      <td>DEVON</td>\n",
       "      <td>1995</td>\n",
       "      <td>11</td>\n",
       "      <td>17</td>\n",
       "    </tr>\n",
       "    <tr>\n",
       "      <th>2</th>\n",
       "      <td>69950</td>\n",
       "      <td>1995-04-06</td>\n",
       "      <td>TN2 3HU</td>\n",
       "      <td>S</td>\n",
       "      <td>N</td>\n",
       "      <td>F</td>\n",
       "      <td>227</td>\n",
       "      <td>NaN</td>\n",
       "      <td>GREGGS WOOD ROAD</td>\n",
       "      <td>TUNBRIDGE WELLS</td>\n",
       "      <td>TUNBRIDGE WELLS</td>\n",
       "      <td>TUNBRIDGE WELLS</td>\n",
       "      <td>KENT</td>\n",
       "      <td>1995</td>\n",
       "      <td>04</td>\n",
       "      <td>06</td>\n",
       "    </tr>\n",
       "    <tr>\n",
       "      <th>3</th>\n",
       "      <td>57850</td>\n",
       "      <td>1995-12-15</td>\n",
       "      <td>HX7 5DY</td>\n",
       "      <td>S</td>\n",
       "      <td>Y</td>\n",
       "      <td>F</td>\n",
       "      <td>3</td>\n",
       "      <td>NaN</td>\n",
       "      <td>STREAMSIDE FOLD</td>\n",
       "      <td>MYTHOLMROYD</td>\n",
       "      <td>HEBDEN BRIDGE</td>\n",
       "      <td>CALDERDALE</td>\n",
       "      <td>WEST YORKSHIRE</td>\n",
       "      <td>1995</td>\n",
       "      <td>12</td>\n",
       "      <td>15</td>\n",
       "    </tr>\n",
       "    <tr>\n",
       "      <th>4</th>\n",
       "      <td>49950</td>\n",
       "      <td>1995-05-26</td>\n",
       "      <td>S10 1PG</td>\n",
       "      <td>T</td>\n",
       "      <td>N</td>\n",
       "      <td>F</td>\n",
       "      <td>139</td>\n",
       "      <td>NaN</td>\n",
       "      <td>HEAVYGATE ROAD</td>\n",
       "      <td>SHEFFIELD</td>\n",
       "      <td>SHEFFIELD</td>\n",
       "      <td>SHEFFIELD</td>\n",
       "      <td>SOUTH YORKSHIRE</td>\n",
       "      <td>1995</td>\n",
       "      <td>05</td>\n",
       "      <td>26</td>\n",
       "    </tr>\n",
       "  </tbody>\n",
       "</table>\n",
       "</div>"
      ],
      "text/plain": [
       "   Price Date of Transfer PostCode Property_type Old/New Duration  \\\n",
       "0  48000       1995-01-27  LA1 1SY             T       N        F   \n",
       "1  59000       1995-11-17  PL3 6DR             S       N        F   \n",
       "2  69950       1995-04-06  TN2 3HU             S       N        F   \n",
       "3  57850       1995-12-15  HX7 5DY             S       Y        F   \n",
       "4  49950       1995-05-26  S10 1PG             T       N        F   \n",
       "\n",
       "  House Number Flat Type            Street         Locality        Town/City  \\\n",
       "0           26       NaN   PORTLAND STREET        LANCASTER        LANCASTER   \n",
       "1           26       NaN   FAIRVIEW AVENUE         PLYMOUTH         PLYMOUTH   \n",
       "2          227       NaN  GREGGS WOOD ROAD  TUNBRIDGE WELLS  TUNBRIDGE WELLS   \n",
       "3            3       NaN   STREAMSIDE FOLD      MYTHOLMROYD    HEBDEN BRIDGE   \n",
       "4          139       NaN    HEAVYGATE ROAD        SHEFFIELD        SHEFFIELD   \n",
       "\n",
       "          District           County  year month day_of_month  \n",
       "0        LANCASTER       LANCASHIRE  1995    01           27  \n",
       "1         PLYMOUTH            DEVON  1995    11           17  \n",
       "2  TUNBRIDGE WELLS             KENT  1995    04           06  \n",
       "3       CALDERDALE   WEST YORKSHIRE  1995    12           15  \n",
       "4        SHEFFIELD  SOUTH YORKSHIRE  1995    05           26  "
      ]
     },
     "execution_count": 34,
     "metadata": {},
     "output_type": "execute_result"
    }
   ],
   "source": [
    "df.head()"
   ]
  },
  {
   "cell_type": "code",
   "execution_count": 35,
   "metadata": {},
   "outputs": [],
   "source": [
    "# Data Type Conversion\n",
    "df['year'] = df['year'].astype('int64')\n",
    "df['month'] = df['month'].astype('int64')\n",
    "df['day_of_month'] = df['day_of_month'].astype('int64')\n"
   ]
  },
  {
   "cell_type": "markdown",
   "metadata": {},
   "source": [
    "###  A comparison of the last year (2017) and 22 years ago (1995)\n"
   ]
  },
  {
   "cell_type": "code",
   "execution_count": 36,
   "metadata": {},
   "outputs": [
    {
     "data": {
      "text/plain": [
       "2002    1351418\n",
       "2006    1325716\n",
       "2007    1271950\n",
       "2001    1245513\n",
       "2003    1235103\n",
       "2004    1231583\n",
       "1999    1194562\n",
       "2000    1129024\n",
       "1997    1094126\n",
       "2005    1061133\n",
       "2021    1059377\n",
       "1998    1050196\n",
       "2016    1000076\n",
       "2015     990565\n",
       "2017     990333\n",
       "2014     971685\n",
       "2018     965139\n",
       "1996     965020\n",
       "2019     940871\n",
       "2020     812545\n",
       "2013     806369\n",
       "1995     796831\n",
       "2012     668533\n",
       "2010     663091\n",
       "2011     660937\n",
       "2008     649398\n",
       "2009     625079\n",
       "2022     289098\n",
       "Name: year, dtype: int64"
      ]
     },
     "execution_count": 36,
     "metadata": {},
     "output_type": "execute_result"
    }
   ],
   "source": [
    "df.year.value_counts()"
   ]
  },
  {
   "cell_type": "code",
   "execution_count": 37,
   "metadata": {},
   "outputs": [
    {
     "name": "stdout",
     "output_type": "stream",
     "text": [
      "<class 'pandas.core.frame.DataFrame'>\n",
      "Int64Index: 27045271 entries, 0 to 27450497\n",
      "Data columns (total 16 columns):\n",
      " #   Column            Dtype \n",
      "---  ------            ----- \n",
      " 0   Price             int64 \n",
      " 1   Date of Transfer  string\n",
      " 2   PostCode          object\n",
      " 3   Property_type     object\n",
      " 4   Old/New           object\n",
      " 5   Duration          object\n",
      " 6   House Number      object\n",
      " 7   Flat Type         object\n",
      " 8   Street            object\n",
      " 9   Locality          object\n",
      " 10  Town/City         object\n",
      " 11  District          object\n",
      " 12  County            object\n",
      " 13  year              int64 \n",
      " 14  month             int64 \n",
      " 15  day_of_month      int64 \n",
      "dtypes: int64(4), object(11), string(1)\n",
      "memory usage: 3.4+ GB\n"
     ]
    }
   ],
   "source": [
    "df.info()"
   ]
  },
  {
   "cell_type": "code",
   "execution_count": 38,
   "metadata": {},
   "outputs": [],
   "source": [
    "\n",
    "df_2017 = df[df['year'] == 2017].copy()\n",
    "\n",
    "df_2017_price_per_month = df_2017.groupby(['Property_type','month'], as_index=False)['Price'].median()"
   ]
  },
  {
   "cell_type": "code",
   "execution_count": 39,
   "metadata": {},
   "outputs": [
    {
     "data": {
      "image/png": "[encoded data removed]",
      "text/plain": [
       "<Figure size 504x360 with 1 Axes>"
      ]
     },
     "metadata": {
      "needs_background": "light"
     },
     "output_type": "display_data"
    }
   ],
   "source": [
    "\n",
    "df_1995 = df[df['year'] == 1995].copy()\n",
    "\n",
    "fig, ax = plt.subplots(figsize = (7,5))\n",
    "\n",
    "ax.plot(df_2017.groupby('month')['Price'].median(), \n",
    "        label='median 2017', linestyle = 'dashed',marker = 'o', markersize = 5);\n",
    "\n",
    "ax.plot(df_2017.groupby('month')['Price'].min(), \n",
    "        label = 'minimum 2017', marker = 'o', markersize = 5);\n",
    "\n",
    "ax.plot(df_1995.groupby('month')['Price'].median(), \n",
    "        label = 'median 1995',linestyle = 'dashed', marker = 'o', markersize = 5);\n",
    "\n",
    "ax.plot(df_1995.groupby('month')['Price'].min(), \n",
    "        label = 'minimum 1995', marker = 'o', markersize = 5);\n",
    "\n",
    "ax.set(xlabel = 'Month',\n",
    "       ylabel = 'Prices', \n",
    "       title = \"The median and minimum housing prices in the UK over months in 2016 and 1995\\n\")\n",
    "\n",
    "plt.grid(True, alpha = 0.5)\n",
    "\n",
    "ax.legend();\n",
    "\n"
   ]
  },
  {
   "cell_type": "code",
   "execution_count": 45,
   "metadata": {},
   "outputs": [
    {
     "name": "stderr",
     "output_type": "stream",
     "text": [
      "C:\\Users\\ASDF\\anaconda3\\lib\\site-packages\\seaborn\\_decorators.py:36: FutureWarning:\n",
      "\n",
      "Pass the following variable as a keyword arg: x. From version 0.12, the only valid positional argument will be `data`, and passing other arguments without an explicit keyword will result in an error or misinterpretation.\n",
      "\n"
     ]
    },
    {
     "data": {
      "image/png": "[encoded data removed]",
      "text/plain": [
       "<Figure size 1152x432 with 1 Axes>"
      ]
     },
     "metadata": {
      "needs_background": "light"
     },
     "output_type": "display_data"
    }
   ],
   "source": [
    "# Top 15 most common elevations\n",
    "top_15 = list(df['Town/City'].value_counts().head(15).reset_index()['index'])\n",
    "data = df[df['Town/City'].isin(top_15)]\n",
    "\n",
    "# === PLOT ===\n",
    "\n",
    "plt.figure(figsize=(16, 6))\n",
    "ax = sns.countplot(data['Town/City'], palette='hls', order = df['Town/City'][:20].value_counts().index)\n",
    "\n",
    "plt.title(\"Top 15 Cities with most Most Investment \", fontsize=16)\n",
    "plt.ylabel(\"Count of Investment\", fontsize=14)\n",
    "plt.yticks(fontsize=13)\n",
    "plt.xticks(rotation=45, fontsize=13)\n",
    "plt.xlabel(\"\");"
   ]
  },
  {
   "cell_type": "markdown",
   "metadata": {},
   "source": [
    "### List of towns having max. growth in housing transation from 1995 to 2017"
   ]
  },
  {
   "cell_type": "code",
   "execution_count": 48,
   "metadata": {},
   "outputs": [
    {
     "data": {
      "image/png": "[encoded data removed]",
      "text/plain": [
       "<Figure size 1800x720 with 1 Axes>"
      ]
     },
     "metadata": {
      "needs_background": "light"
     },
     "output_type": "display_data"
    }
   ],
   "source": [
    "max_g_1 = df_2017.groupby(['Town/City'], as_index = False)['Date of Transfer'].count()\n",
    "max_g_2 = df_1995.groupby(['Town/City'], as_index = False)['Date of Transfer'].count()\n",
    "\n",
    "max_g_m = pd.merge(max_g_1, max_g_2, how = 'left', on = 'Town/City')\n",
    "\n",
    "max_g_m['growth'] = max_g_m['Date of Transfer_x'] - max_g_m['Date of Transfer_y']\n",
    "\n",
    "gdf_g = max_g_m[max_g_m.growth > 0].sort_values(by='growth', ascending = False)\n",
    "\n",
    "graph_df = gdf_g[gdf_g['growth'] > 5].sort_values(by = 'Date of Transfer_y')\n",
    "\n",
    "fig, ax = plt.subplots(figsize=(25, 10))\n",
    "\n",
    "ax.bar(graph_df['Town/City'],graph_df['Date of Transfer_x'], label = '2017');\n",
    "ax.bar(graph_df['Town/City'],graph_df['Date of Transfer_y'], label = '1995');\n",
    "\n",
    "ax.set(xlabel = 'Town',\n",
    "       ylabel = 'transaction count',\n",
    "       title = \"Towns having max. growth in housing transaction from 1995 to 2017\\n\")\n",
    "\n",
    "ax.tick_params(axis = 'x', labelrotation = 90) \n",
    "\n",
    "plt.grid(True, alpha = 0.2)\n",
    "\n",
    "ax.legend();\n",
    "\n"
   ]
  },
  {
   "cell_type": "markdown",
   "metadata": {},
   "source": [
    "# Extracting Required Features that were asked(given) in the assesment or a very essential part of Data Preprocessing"
   ]
  },
  {
   "cell_type": "markdown",
   "metadata": {},
   "source": [
    "#### Feature-1: Property Present in London:"
   ]
  },
  {
   "cell_type": "code",
   "execution_count": 49,
   "metadata": {},
   "outputs": [
    {
     "data": {
      "text/plain": [
       "Index(['Price', 'Date of Transfer', 'PostCode', 'Property_type', 'Old/New',\n",
       "       'Duration', 'House Number', 'Flat Type', 'Street', 'Locality',\n",
       "       'Town/City', 'District', 'County', 'year', 'month', 'day_of_month'],\n",
       "      dtype='object')"
      ]
     },
     "execution_count": 49,
     "metadata": {},
     "output_type": "execute_result"
    }
   ],
   "source": [
    "df.columns"
   ]
  },
  {
   "cell_type": "code",
   "execution_count": 50,
   "metadata": {},
   "outputs": [
    {
     "data": {
      "text/plain": [
       "0          LANCASTER\n",
       "1           PLYMOUTH\n",
       "2    TUNBRIDGE WELLS\n",
       "3      HEBDEN BRIDGE\n",
       "4          SHEFFIELD\n",
       "Name: Town/City, dtype: object"
      ]
     },
     "execution_count": 50,
     "metadata": {},
     "output_type": "execute_result"
    }
   ],
   "source": [
    "df['Town/City'].head()"
   ]
  },
  {
   "cell_type": "code",
   "execution_count": 51,
   "metadata": {},
   "outputs": [],
   "source": [
    "df['Location'] = df['Town/City'].map(lambda x: 1 if 'LONDON' in x else 0)\n"
   ]
  },
  {
   "cell_type": "code",
   "execution_count": 52,
   "metadata": {},
   "outputs": [
    {
     "data": {
      "text/plain": [
       "0    24973080\n",
       "1     2072191\n",
       "Name: Location, dtype: int64"
      ]
     },
     "execution_count": 52,
     "metadata": {},
     "output_type": "execute_result"
    }
   ],
   "source": [
    "df['Location'].value_counts()"
   ]
  },
  {
   "cell_type": "code",
   "execution_count": 53,
   "metadata": {
    "scrolled": true
   },
   "outputs": [
    {
     "data": {
      "text/html": [
       "<div>\n",
       "<style scoped>\n",
       "    .dataframe tbody tr th:only-of-type {\n",
       "        vertical-align: middle;\n",
       "    }\n",
       "\n",
       "    .dataframe tbody tr th {\n",
       "        vertical-align: top;\n",
       "    }\n",
       "\n",
       "    .dataframe thead th {\n",
       "        text-align: right;\n",
       "    }\n",
       "</style>\n",
       "<table border=\"1\" class=\"dataframe\">\n",
       "  <thead>\n",
       "    <tr style=\"text-align: right;\">\n",
       "      <th></th>\n",
       "      <th>Price</th>\n",
       "      <th>Date of Transfer</th>\n",
       "      <th>PostCode</th>\n",
       "      <th>Property_type</th>\n",
       "      <th>Old/New</th>\n",
       "      <th>Duration</th>\n",
       "      <th>House Number</th>\n",
       "      <th>Flat Type</th>\n",
       "      <th>Street</th>\n",
       "      <th>Locality</th>\n",
       "      <th>Town/City</th>\n",
       "      <th>District</th>\n",
       "      <th>County</th>\n",
       "      <th>year</th>\n",
       "      <th>month</th>\n",
       "      <th>day_of_month</th>\n",
       "      <th>Location</th>\n",
       "    </tr>\n",
       "  </thead>\n",
       "  <tbody>\n",
       "    <tr>\n",
       "      <th>0</th>\n",
       "      <td>48000</td>\n",
       "      <td>1995-01-27</td>\n",
       "      <td>LA1 1SY</td>\n",
       "      <td>T</td>\n",
       "      <td>N</td>\n",
       "      <td>F</td>\n",
       "      <td>26</td>\n",
       "      <td>NaN</td>\n",
       "      <td>PORTLAND STREET</td>\n",
       "      <td>LANCASTER</td>\n",
       "      <td>LANCASTER</td>\n",
       "      <td>LANCASTER</td>\n",
       "      <td>LANCASHIRE</td>\n",
       "      <td>1995</td>\n",
       "      <td>1</td>\n",
       "      <td>27</td>\n",
       "      <td>0</td>\n",
       "    </tr>\n",
       "    <tr>\n",
       "      <th>1</th>\n",
       "      <td>59000</td>\n",
       "      <td>1995-11-17</td>\n",
       "      <td>PL3 6DR</td>\n",
       "      <td>S</td>\n",
       "      <td>N</td>\n",
       "      <td>F</td>\n",
       "      <td>26</td>\n",
       "      <td>NaN</td>\n",
       "      <td>FAIRVIEW AVENUE</td>\n",
       "      <td>PLYMOUTH</td>\n",
       "      <td>PLYMOUTH</td>\n",
       "      <td>PLYMOUTH</td>\n",
       "      <td>DEVON</td>\n",
       "      <td>1995</td>\n",
       "      <td>11</td>\n",
       "      <td>17</td>\n",
       "      <td>0</td>\n",
       "    </tr>\n",
       "    <tr>\n",
       "      <th>2</th>\n",
       "      <td>69950</td>\n",
       "      <td>1995-04-06</td>\n",
       "      <td>TN2 3HU</td>\n",
       "      <td>S</td>\n",
       "      <td>N</td>\n",
       "      <td>F</td>\n",
       "      <td>227</td>\n",
       "      <td>NaN</td>\n",
       "      <td>GREGGS WOOD ROAD</td>\n",
       "      <td>TUNBRIDGE WELLS</td>\n",
       "      <td>TUNBRIDGE WELLS</td>\n",
       "      <td>TUNBRIDGE WELLS</td>\n",
       "      <td>KENT</td>\n",
       "      <td>1995</td>\n",
       "      <td>4</td>\n",
       "      <td>6</td>\n",
       "      <td>0</td>\n",
       "    </tr>\n",
       "    <tr>\n",
       "      <th>3</th>\n",
       "      <td>57850</td>\n",
       "      <td>1995-12-15</td>\n",
       "      <td>HX7 5DY</td>\n",
       "      <td>S</td>\n",
       "      <td>Y</td>\n",
       "      <td>F</td>\n",
       "      <td>3</td>\n",
       "      <td>NaN</td>\n",
       "      <td>STREAMSIDE FOLD</td>\n",
       "      <td>MYTHOLMROYD</td>\n",
       "      <td>HEBDEN BRIDGE</td>\n",
       "      <td>CALDERDALE</td>\n",
       "      <td>WEST YORKSHIRE</td>\n",
       "      <td>1995</td>\n",
       "      <td>12</td>\n",
       "      <td>15</td>\n",
       "      <td>0</td>\n",
       "    </tr>\n",
       "    <tr>\n",
       "      <th>4</th>\n",
       "      <td>49950</td>\n",
       "      <td>1995-05-26</td>\n",
       "      <td>S10 1PG</td>\n",
       "      <td>T</td>\n",
       "      <td>N</td>\n",
       "      <td>F</td>\n",
       "      <td>139</td>\n",
       "      <td>NaN</td>\n",
       "      <td>HEAVYGATE ROAD</td>\n",
       "      <td>SHEFFIELD</td>\n",
       "      <td>SHEFFIELD</td>\n",
       "      <td>SHEFFIELD</td>\n",
       "      <td>SOUTH YORKSHIRE</td>\n",
       "      <td>1995</td>\n",
       "      <td>5</td>\n",
       "      <td>26</td>\n",
       "      <td>0</td>\n",
       "    </tr>\n",
       "  </tbody>\n",
       "</table>\n",
       "</div>"
      ],
      "text/plain": [
       "   Price Date of Transfer PostCode Property_type Old/New Duration  \\\n",
       "0  48000       1995-01-27  LA1 1SY             T       N        F   \n",
       "1  59000       1995-11-17  PL3 6DR             S       N        F   \n",
       "2  69950       1995-04-06  TN2 3HU             S       N        F   \n",
       "3  57850       1995-12-15  HX7 5DY             S       Y        F   \n",
       "4  49950       1995-05-26  S10 1PG             T       N        F   \n",
       "\n",
       "  House Number Flat Type            Street         Locality        Town/City  \\\n",
       "0           26       NaN   PORTLAND STREET        LANCASTER        LANCASTER   \n",
       "1           26       NaN   FAIRVIEW AVENUE         PLYMOUTH         PLYMOUTH   \n",
       "2          227       NaN  GREGGS WOOD ROAD  TUNBRIDGE WELLS  TUNBRIDGE WELLS   \n",
       "3            3       NaN   STREAMSIDE FOLD      MYTHOLMROYD    HEBDEN BRIDGE   \n",
       "4          139       NaN    HEAVYGATE ROAD        SHEFFIELD        SHEFFIELD   \n",
       "\n",
       "          District           County  year  month  day_of_month  Location  \n",
       "0        LANCASTER       LANCASHIRE  1995      1            27         0  \n",
       "1         PLYMOUTH            DEVON  1995     11            17         0  \n",
       "2  TUNBRIDGE WELLS             KENT  1995      4             6         0  \n",
       "3       CALDERDALE   WEST YORKSHIRE  1995     12            15         0  \n",
       "4        SHEFFIELD  SOUTH YORKSHIRE  1995      5            26         0  "
      ]
     },
     "execution_count": 53,
     "metadata": {},
     "output_type": "execute_result"
    }
   ],
   "source": [
    "df.head(5)"
   ]
  },
  {
   "cell_type": "markdown",
   "metadata": {},
   "source": [
    "#### Feature-2: The lease duration:\n",
    "\n",
    "we havae three types of duration so we have to drop the lower lease duration type which is U.others are Freehold and Leasehold duration"
   ]
  },
  {
   "cell_type": "code",
   "execution_count": 54,
   "metadata": {},
   "outputs": [
    {
     "data": {
      "text/plain": [
       "F    20684268\n",
       "L     6360470\n",
       "U         533\n",
       "Name: Duration, dtype: int64"
      ]
     },
     "execution_count": 54,
     "metadata": {},
     "output_type": "execute_result"
    }
   ],
   "source": [
    "df.Duration.value_counts()"
   ]
  },
  {
   "cell_type": "code",
   "execution_count": 55,
   "metadata": {},
   "outputs": [],
   "source": [
    "df = df[df[\"Duration\"].str.contains(\"U\") == False]"
   ]
  },
  {
   "cell_type": "code",
   "execution_count": 56,
   "metadata": {},
   "outputs": [
    {
     "data": {
      "text/plain": [
       "F    20684268\n",
       "L     6360470\n",
       "Name: Duration, dtype: int64"
      ]
     },
     "execution_count": 56,
     "metadata": {},
     "output_type": "execute_result"
    }
   ],
   "source": [
    "df.Duration.value_counts()"
   ]
  },
  {
   "cell_type": "markdown",
   "metadata": {},
   "source": [
    "#### Converting F and L into \"1\" and \"0\":"
   ]
  },
  {
   "cell_type": "code",
   "execution_count": 57,
   "metadata": {},
   "outputs": [],
   "source": [
    "df['Duration'] = df['Duration'].map(lambda x: 1 if 'F' in x else 0)"
   ]
  },
  {
   "cell_type": "markdown",
   "metadata": {},
   "source": [
    "### Feature-3 Property Type:\n",
    "We have four different types of property type like D, F, S and T so we have two option to Encode these fetures.and these property types full names are,Detached,Semi_Detached,Terraced,Flats/Maisonettes.\n",
    " 1. One Hot Encoding\n",
    " 2. Label Encoding\n"
   ]
  },
  {
   "cell_type": "code",
   "execution_count": 58,
   "metadata": {},
   "outputs": [
    {
     "data": {
      "text/html": [
       "<div>\n",
       "<style scoped>\n",
       "    .dataframe tbody tr th:only-of-type {\n",
       "        vertical-align: middle;\n",
       "    }\n",
       "\n",
       "    .dataframe tbody tr th {\n",
       "        vertical-align: top;\n",
       "    }\n",
       "\n",
       "    .dataframe thead th {\n",
       "        text-align: right;\n",
       "    }\n",
       "</style>\n",
       "<table border=\"1\" class=\"dataframe\">\n",
       "  <thead>\n",
       "    <tr style=\"text-align: right;\">\n",
       "      <th></th>\n",
       "      <th>Price</th>\n",
       "      <th>Date of Transfer</th>\n",
       "      <th>PostCode</th>\n",
       "      <th>Old/New</th>\n",
       "      <th>Duration</th>\n",
       "      <th>House Number</th>\n",
       "      <th>Flat Type</th>\n",
       "      <th>Street</th>\n",
       "      <th>Locality</th>\n",
       "      <th>Town/City</th>\n",
       "      <th>District</th>\n",
       "      <th>County</th>\n",
       "      <th>year</th>\n",
       "      <th>month</th>\n",
       "      <th>day_of_month</th>\n",
       "      <th>Location</th>\n",
       "      <th>Property_Type_is__D</th>\n",
       "      <th>Property_Type_is__F</th>\n",
       "      <th>Property_Type_is__S</th>\n",
       "      <th>Property_Type_is__T</th>\n",
       "    </tr>\n",
       "  </thead>\n",
       "  <tbody>\n",
       "    <tr>\n",
       "      <th>0</th>\n",
       "      <td>48000</td>\n",
       "      <td>1995-01-27</td>\n",
       "      <td>LA1 1SY</td>\n",
       "      <td>N</td>\n",
       "      <td>1</td>\n",
       "      <td>26</td>\n",
       "      <td>NaN</td>\n",
       "      <td>PORTLAND STREET</td>\n",
       "      <td>LANCASTER</td>\n",
       "      <td>LANCASTER</td>\n",
       "      <td>LANCASTER</td>\n",
       "      <td>LANCASHIRE</td>\n",
       "      <td>1995</td>\n",
       "      <td>1</td>\n",
       "      <td>27</td>\n",
       "      <td>0</td>\n",
       "      <td>0</td>\n",
       "      <td>0</td>\n",
       "      <td>0</td>\n",
       "      <td>1</td>\n",
       "    </tr>\n",
       "    <tr>\n",
       "      <th>1</th>\n",
       "      <td>59000</td>\n",
       "      <td>1995-11-17</td>\n",
       "      <td>PL3 6DR</td>\n",
       "      <td>N</td>\n",
       "      <td>1</td>\n",
       "      <td>26</td>\n",
       "      <td>NaN</td>\n",
       "      <td>FAIRVIEW AVENUE</td>\n",
       "      <td>PLYMOUTH</td>\n",
       "      <td>PLYMOUTH</td>\n",
       "      <td>PLYMOUTH</td>\n",
       "      <td>DEVON</td>\n",
       "      <td>1995</td>\n",
       "      <td>11</td>\n",
       "      <td>17</td>\n",
       "      <td>0</td>\n",
       "      <td>0</td>\n",
       "      <td>0</td>\n",
       "      <td>1</td>\n",
       "      <td>0</td>\n",
       "    </tr>\n",
       "    <tr>\n",
       "      <th>2</th>\n",
       "      <td>69950</td>\n",
       "      <td>1995-04-06</td>\n",
       "      <td>TN2 3HU</td>\n",
       "      <td>N</td>\n",
       "      <td>1</td>\n",
       "      <td>227</td>\n",
       "      <td>NaN</td>\n",
       "      <td>GREGGS WOOD ROAD</td>\n",
       "      <td>TUNBRIDGE WELLS</td>\n",
       "      <td>TUNBRIDGE WELLS</td>\n",
       "      <td>TUNBRIDGE WELLS</td>\n",
       "      <td>KENT</td>\n",
       "      <td>1995</td>\n",
       "      <td>4</td>\n",
       "      <td>6</td>\n",
       "      <td>0</td>\n",
       "      <td>0</td>\n",
       "      <td>0</td>\n",
       "      <td>1</td>\n",
       "      <td>0</td>\n",
       "    </tr>\n",
       "    <tr>\n",
       "      <th>3</th>\n",
       "      <td>57850</td>\n",
       "      <td>1995-12-15</td>\n",
       "      <td>HX7 5DY</td>\n",
       "      <td>Y</td>\n",
       "      <td>1</td>\n",
       "      <td>3</td>\n",
       "      <td>NaN</td>\n",
       "      <td>STREAMSIDE FOLD</td>\n",
       "      <td>MYTHOLMROYD</td>\n",
       "      <td>HEBDEN BRIDGE</td>\n",
       "      <td>CALDERDALE</td>\n",
       "      <td>WEST YORKSHIRE</td>\n",
       "      <td>1995</td>\n",
       "      <td>12</td>\n",
       "      <td>15</td>\n",
       "      <td>0</td>\n",
       "      <td>0</td>\n",
       "      <td>0</td>\n",
       "      <td>1</td>\n",
       "      <td>0</td>\n",
       "    </tr>\n",
       "    <tr>\n",
       "      <th>4</th>\n",
       "      <td>49950</td>\n",
       "      <td>1995-05-26</td>\n",
       "      <td>S10 1PG</td>\n",
       "      <td>N</td>\n",
       "      <td>1</td>\n",
       "      <td>139</td>\n",
       "      <td>NaN</td>\n",
       "      <td>HEAVYGATE ROAD</td>\n",
       "      <td>SHEFFIELD</td>\n",
       "      <td>SHEFFIELD</td>\n",
       "      <td>SHEFFIELD</td>\n",
       "      <td>SOUTH YORKSHIRE</td>\n",
       "      <td>1995</td>\n",
       "      <td>5</td>\n",
       "      <td>26</td>\n",
       "      <td>0</td>\n",
       "      <td>0</td>\n",
       "      <td>0</td>\n",
       "      <td>0</td>\n",
       "      <td>1</td>\n",
       "    </tr>\n",
       "  </tbody>\n",
       "</table>\n",
       "</div>"
      ],
      "text/plain": [
       "   Price Date of Transfer PostCode Old/New  Duration House Number Flat Type  \\\n",
       "0  48000       1995-01-27  LA1 1SY       N         1           26       NaN   \n",
       "1  59000       1995-11-17  PL3 6DR       N         1           26       NaN   \n",
       "2  69950       1995-04-06  TN2 3HU       N         1          227       NaN   \n",
       "3  57850       1995-12-15  HX7 5DY       Y         1            3       NaN   \n",
       "4  49950       1995-05-26  S10 1PG       N         1          139       NaN   \n",
       "\n",
       "             Street         Locality        Town/City         District  \\\n",
       "0   PORTLAND STREET        LANCASTER        LANCASTER        LANCASTER   \n",
       "1   FAIRVIEW AVENUE         PLYMOUTH         PLYMOUTH         PLYMOUTH   \n",
       "2  GREGGS WOOD ROAD  TUNBRIDGE WELLS  TUNBRIDGE WELLS  TUNBRIDGE WELLS   \n",
       "3   STREAMSIDE FOLD      MYTHOLMROYD    HEBDEN BRIDGE       CALDERDALE   \n",
       "4    HEAVYGATE ROAD        SHEFFIELD        SHEFFIELD        SHEFFIELD   \n",
       "\n",
       "            County  year  month  day_of_month  Location  Property_Type_is__D  \\\n",
       "0       LANCASHIRE  1995      1            27         0                    0   \n",
       "1            DEVON  1995     11            17         0                    0   \n",
       "2             KENT  1995      4             6         0                    0   \n",
       "3   WEST YORKSHIRE  1995     12            15         0                    0   \n",
       "4  SOUTH YORKSHIRE  1995      5            26         0                    0   \n",
       "\n",
       "   Property_Type_is__F  Property_Type_is__S  Property_Type_is__T  \n",
       "0                    0                    0                    1  \n",
       "1                    0                    1                    0  \n",
       "2                    0                    1                    0  \n",
       "3                    0                    1                    0  \n",
       "4                    0                    0                    1  "
      ]
     },
     "execution_count": 58,
     "metadata": {},
     "output_type": "execute_result"
    }
   ],
   "source": [
    "enc_df = pd.DataFrame(df, columns = ['Property_type'])\n",
    "dum_df = pd.get_dummies(df, columns = [\"Property_type\"], prefix = [\"Property_Type_is_\"] )\n",
    "df = enc_df.join(dum_df)\n",
    "df.drop(columns = 'Property_type', axis = 1, inplace = True)\n",
    "df.head(5)"
   ]
  },
  {
   "cell_type": "markdown",
   "metadata": {},
   "source": [
    "### Dependent Variable y EDA:"
   ]
  },
  {
   "cell_type": "code",
   "execution_count": 59,
   "metadata": {
    "scrolled": true
   },
   "outputs": [
    {
     "data": {
      "text/plain": [
       "count    2.704474e+07\n",
       "mean     1.975455e+05\n",
       "std      2.574370e+05\n",
       "min      1.000000e+00\n",
       "25%      8.300000e+04\n",
       "50%      1.450000e+05\n",
       "75%      2.400000e+05\n",
       "max      1.790000e+08\n",
       "Name: Price, dtype: float64"
      ]
     },
     "execution_count": 59,
     "metadata": {},
     "output_type": "execute_result"
    }
   ],
   "source": [
    "df[\"Price\"].describe()"
   ]
  },
  {
   "cell_type": "code",
   "execution_count": 60,
   "metadata": {},
   "outputs": [
    {
     "name": "stdout",
     "output_type": "stream",
     "text": [
      "Mean: 197545.49895007303\n",
      "Median: 145000.0\n"
     ]
    }
   ],
   "source": [
    "price_mean = df[\"Price\"].mean()\n",
    "price_median = df[\"Price\"].median()\n",
    "\n",
    "print('Mean:', price_mean)\n",
    "print(\"Median:\", price_median)"
   ]
  },
  {
   "cell_type": "code",
   "execution_count": 61,
   "metadata": {},
   "outputs": [
    {
     "data": {
      "text/plain": [
       "57.72744273459755"
      ]
     },
     "execution_count": 61,
     "metadata": {},
     "output_type": "execute_result"
    }
   ],
   "source": [
    "df[\"Price\"].skew()"
   ]
  },
  {
   "cell_type": "markdown",
   "metadata": {},
   "source": [
    "As result is showing that the data is right skwed "
   ]
  },
  {
   "cell_type": "markdown",
   "metadata": {},
   "source": [
    "By the help of the Log transformation the skewness of the data has been removed"
   ]
  },
  {
   "cell_type": "code",
   "execution_count": 62,
   "metadata": {},
   "outputs": [
    {
     "name": "stdout",
     "output_type": "stream",
     "text": [
      "New skewness: -0.06196932611550471\n"
     ]
    }
   ],
   "source": [
    "log_transform_price = np.log(df[\"Price\"])\n",
    "\n",
    "df['Price'] = log_transform_price\n",
    "\n",
    "print('New skewness:', log_transform_price.skew())"
   ]
  },
  {
   "cell_type": "code",
   "execution_count": 63,
   "metadata": {},
   "outputs": [
    {
     "name": "stderr",
     "output_type": "stream",
     "text": [
      "C:\\Users\\ASDF\\anaconda3\\lib\\site-packages\\seaborn\\distributions.py:2557: FutureWarning:\n",
      "\n",
      "`distplot` is a deprecated function and will be removed in a future version. Please adapt your code to use either `displot` (a figure-level function with similar flexibility) or `histplot` (an axes-level function for histograms).\n",
      "\n"
     ]
    },
    {
     "data": {
      "text/plain": [
       "<matplotlib.lines.Line2D at 0x2f303e8ddc0>"
      ]
     },
     "execution_count": 63,
     "metadata": {},
     "output_type": "execute_result"
    },
    {
     "data": {
      "image/png": "[encoded data removed]",
      "text/plain": [
       "<Figure size 432x288 with 1 Axes>"
      ]
     },
     "metadata": {
      "needs_background": "light"
     },
     "output_type": "display_data"
    }
   ],
   "source": [
    "df_mean = df[\"Price\"].mean()\n",
    "df_median = df[\"Price\"].median()\n",
    "\n",
    "sns.distplot(df ['Price'])\n",
    "plt.axvline(x = df_mean, color = 'blue')\n",
    "plt.axvline(x = df_median, color = \"red\", linestyle = '--')"
   ]
  },
  {
   "cell_type": "code",
   "execution_count": 64,
   "metadata": {},
   "outputs": [
    {
     "data": {
      "image/png": "[encoded data removed]",
      "text/plain": [
       "<Figure size 432x288 with 1 Axes>"
      ]
     },
     "metadata": {
      "needs_background": "light"
     },
     "output_type": "display_data"
    }
   ],
   "source": [
    "sns.boxplot(data = df, x = 'Price');"
   ]
  },
  {
   "cell_type": "code",
   "execution_count": 65,
   "metadata": {},
   "outputs": [],
   "source": [
    "lower = 10.2\n",
    "higher = 13.5"
   ]
  },
  {
   "cell_type": "code",
   "execution_count": 66,
   "metadata": {},
   "outputs": [
    {
     "data": {
      "text/plain": [
       "Price                  27044738\n",
       "Date of Transfer       27044738\n",
       "PostCode               27027524\n",
       "Old/New                27044738\n",
       "Duration               27044738\n",
       "House Number           27040547\n",
       "Flat Type               3139946\n",
       "Street                 26645492\n",
       "Locality               17714392\n",
       "Town/City              27044738\n",
       "District               27044738\n",
       "County                 27044738\n",
       "year                   27044738\n",
       "month                  27044738\n",
       "day_of_month           27044738\n",
       "Location               27044738\n",
       "Property_Type_is__D    27044738\n",
       "Property_Type_is__F    27044738\n",
       "Property_Type_is__S    27044738\n",
       "Property_Type_is__T    27044738\n",
       "dtype: int64"
      ]
     },
     "execution_count": 66,
     "metadata": {},
     "output_type": "execute_result"
    }
   ],
   "source": [
    "df.count()"
   ]
  },
  {
   "cell_type": "code",
   "execution_count": 67,
   "metadata": {},
   "outputs": [
    {
     "name": "stdout",
     "output_type": "stream",
     "text": [
      "548804 entries having 'Price' value lower than  10.2\n",
      "553808 entries having 'Price' value greater than 13.5\n"
     ]
    }
   ],
   "source": [
    "price_outliers_below = df.loc[df['Price'] < lower]\n",
    "price_outliers_abow = df.loc[df['Price'] > higher]\n",
    "\n",
    "print(price_outliers_below['Price'].count(), \"entries having 'Price' value lower than \", lower)\n",
    "print(price_outliers_abow['Price'].count(), \"entries having 'Price' value greater than\", higher)"
   ]
  },
  {
   "cell_type": "code",
   "execution_count": 68,
   "metadata": {},
   "outputs": [
    {
     "name": "stdout",
     "output_type": "stream",
     "text": [
      "0 entries having 'Price' value lower than  10.2\n",
      "0 entries having 'Price' value greater than  10.2\n"
     ]
    }
   ],
   "source": [
    "df[\"Price\"] = df[\"Price\"].map(lambda x: lower if x < lower else x)\n",
    "df[\"Price\"] = df[\"Price\"].fillna(price_mean)\n",
    "\n",
    "df[\"Price\"] = df[\"Price\"].map(lambda x: higher if x > higher else x)\n",
    "df[\"Price\"] = df[\"Price\"].fillna(price_mean)\n",
    "\n",
    "price_outliers_below = df.loc[df['Price'] < lower]\n",
    "price_outliers_abow = df.loc[df['Price'] > higher]\n",
    "\n",
    "print(price_outliers_below['Price'].count(), \"entries having 'Price' value lower than \", lower)\n",
    "print(price_outliers_abow['Price'].count(), \"entries having 'Price' value greater than \", lower)"
   ]
  },
  {
   "cell_type": "code",
   "execution_count": 69,
   "metadata": {
    "scrolled": true
   },
   "outputs": [
    {
     "data": {
      "image/png": "[encoded data removed]",
      "text/plain": [
       "<Figure size 432x288 with 1 Axes>"
      ]
     },
     "metadata": {
      "needs_background": "light"
     },
     "output_type": "display_data"
    }
   ],
   "source": [
    "sns.boxplot(data = df, x = 'Price');"
   ]
  },
  {
   "cell_type": "markdown",
   "metadata": {},
   "source": [
    "As it can be seen that the outliers are now removed and the price column is ok"
   ]
  },
  {
   "cell_type": "code",
   "execution_count": 70,
   "metadata": {},
   "outputs": [
    {
     "data": {
      "text/html": [
       "<div>\n",
       "<style scoped>\n",
       "    .dataframe tbody tr th:only-of-type {\n",
       "        vertical-align: middle;\n",
       "    }\n",
       "\n",
       "    .dataframe tbody tr th {\n",
       "        vertical-align: top;\n",
       "    }\n",
       "\n",
       "    .dataframe thead th {\n",
       "        text-align: right;\n",
       "    }\n",
       "</style>\n",
       "<table border=\"1\" class=\"dataframe\">\n",
       "  <thead>\n",
       "    <tr style=\"text-align: right;\">\n",
       "      <th></th>\n",
       "      <th>Price</th>\n",
       "      <th>Date of Transfer</th>\n",
       "      <th>PostCode</th>\n",
       "      <th>Old/New</th>\n",
       "      <th>Duration</th>\n",
       "      <th>House Number</th>\n",
       "      <th>Flat Type</th>\n",
       "      <th>Street</th>\n",
       "      <th>Locality</th>\n",
       "      <th>Town/City</th>\n",
       "      <th>District</th>\n",
       "      <th>County</th>\n",
       "      <th>year</th>\n",
       "      <th>month</th>\n",
       "      <th>day_of_month</th>\n",
       "      <th>Location</th>\n",
       "      <th>Property_Type_is__D</th>\n",
       "      <th>Property_Type_is__F</th>\n",
       "      <th>Property_Type_is__S</th>\n",
       "      <th>Property_Type_is__T</th>\n",
       "    </tr>\n",
       "  </thead>\n",
       "  <tbody>\n",
       "    <tr>\n",
       "      <th>0</th>\n",
       "      <td>10.778956</td>\n",
       "      <td>1995-01-27</td>\n",
       "      <td>LA1 1SY</td>\n",
       "      <td>N</td>\n",
       "      <td>1</td>\n",
       "      <td>26</td>\n",
       "      <td>NaN</td>\n",
       "      <td>PORTLAND STREET</td>\n",
       "      <td>LANCASTER</td>\n",
       "      <td>LANCASTER</td>\n",
       "      <td>LANCASTER</td>\n",
       "      <td>LANCASHIRE</td>\n",
       "      <td>1995</td>\n",
       "      <td>1</td>\n",
       "      <td>27</td>\n",
       "      <td>0</td>\n",
       "      <td>0</td>\n",
       "      <td>0</td>\n",
       "      <td>0</td>\n",
       "      <td>1</td>\n",
       "    </tr>\n",
       "    <tr>\n",
       "      <th>1</th>\n",
       "      <td>10.985293</td>\n",
       "      <td>1995-11-17</td>\n",
       "      <td>PL3 6DR</td>\n",
       "      <td>N</td>\n",
       "      <td>1</td>\n",
       "      <td>26</td>\n",
       "      <td>NaN</td>\n",
       "      <td>FAIRVIEW AVENUE</td>\n",
       "      <td>PLYMOUTH</td>\n",
       "      <td>PLYMOUTH</td>\n",
       "      <td>PLYMOUTH</td>\n",
       "      <td>DEVON</td>\n",
       "      <td>1995</td>\n",
       "      <td>11</td>\n",
       "      <td>17</td>\n",
       "      <td>0</td>\n",
       "      <td>0</td>\n",
       "      <td>0</td>\n",
       "      <td>1</td>\n",
       "      <td>0</td>\n",
       "    </tr>\n",
       "    <tr>\n",
       "      <th>2</th>\n",
       "      <td>11.155536</td>\n",
       "      <td>1995-04-06</td>\n",
       "      <td>TN2 3HU</td>\n",
       "      <td>N</td>\n",
       "      <td>1</td>\n",
       "      <td>227</td>\n",
       "      <td>NaN</td>\n",
       "      <td>GREGGS WOOD ROAD</td>\n",
       "      <td>TUNBRIDGE WELLS</td>\n",
       "      <td>TUNBRIDGE WELLS</td>\n",
       "      <td>TUNBRIDGE WELLS</td>\n",
       "      <td>KENT</td>\n",
       "      <td>1995</td>\n",
       "      <td>4</td>\n",
       "      <td>6</td>\n",
       "      <td>0</td>\n",
       "      <td>0</td>\n",
       "      <td>0</td>\n",
       "      <td>1</td>\n",
       "      <td>0</td>\n",
       "    </tr>\n",
       "    <tr>\n",
       "      <th>3</th>\n",
       "      <td>10.965609</td>\n",
       "      <td>1995-12-15</td>\n",
       "      <td>HX7 5DY</td>\n",
       "      <td>Y</td>\n",
       "      <td>1</td>\n",
       "      <td>3</td>\n",
       "      <td>NaN</td>\n",
       "      <td>STREAMSIDE FOLD</td>\n",
       "      <td>MYTHOLMROYD</td>\n",
       "      <td>HEBDEN BRIDGE</td>\n",
       "      <td>CALDERDALE</td>\n",
       "      <td>WEST YORKSHIRE</td>\n",
       "      <td>1995</td>\n",
       "      <td>12</td>\n",
       "      <td>15</td>\n",
       "      <td>0</td>\n",
       "      <td>0</td>\n",
       "      <td>0</td>\n",
       "      <td>1</td>\n",
       "      <td>0</td>\n",
       "    </tr>\n",
       "    <tr>\n",
       "      <th>4</th>\n",
       "      <td>10.818778</td>\n",
       "      <td>1995-05-26</td>\n",
       "      <td>S10 1PG</td>\n",
       "      <td>N</td>\n",
       "      <td>1</td>\n",
       "      <td>139</td>\n",
       "      <td>NaN</td>\n",
       "      <td>HEAVYGATE ROAD</td>\n",
       "      <td>SHEFFIELD</td>\n",
       "      <td>SHEFFIELD</td>\n",
       "      <td>SHEFFIELD</td>\n",
       "      <td>SOUTH YORKSHIRE</td>\n",
       "      <td>1995</td>\n",
       "      <td>5</td>\n",
       "      <td>26</td>\n",
       "      <td>0</td>\n",
       "      <td>0</td>\n",
       "      <td>0</td>\n",
       "      <td>0</td>\n",
       "      <td>1</td>\n",
       "    </tr>\n",
       "  </tbody>\n",
       "</table>\n",
       "</div>"
      ],
      "text/plain": [
       "       Price Date of Transfer PostCode Old/New  Duration House Number  \\\n",
       "0  10.778956       1995-01-27  LA1 1SY       N         1           26   \n",
       "1  10.985293       1995-11-17  PL3 6DR       N         1           26   \n",
       "2  11.155536       1995-04-06  TN2 3HU       N         1          227   \n",
       "3  10.965609       1995-12-15  HX7 5DY       Y         1            3   \n",
       "4  10.818778       1995-05-26  S10 1PG       N         1          139   \n",
       "\n",
       "  Flat Type            Street         Locality        Town/City  \\\n",
       "0       NaN   PORTLAND STREET        LANCASTER        LANCASTER   \n",
       "1       NaN   FAIRVIEW AVENUE         PLYMOUTH         PLYMOUTH   \n",
       "2       NaN  GREGGS WOOD ROAD  TUNBRIDGE WELLS  TUNBRIDGE WELLS   \n",
       "3       NaN   STREAMSIDE FOLD      MYTHOLMROYD    HEBDEN BRIDGE   \n",
       "4       NaN    HEAVYGATE ROAD        SHEFFIELD        SHEFFIELD   \n",
       "\n",
       "          District           County  year  month  day_of_month  Location  \\\n",
       "0        LANCASTER       LANCASHIRE  1995      1            27         0   \n",
       "1         PLYMOUTH            DEVON  1995     11            17         0   \n",
       "2  TUNBRIDGE WELLS             KENT  1995      4             6         0   \n",
       "3       CALDERDALE   WEST YORKSHIRE  1995     12            15         0   \n",
       "4        SHEFFIELD  SOUTH YORKSHIRE  1995      5            26         0   \n",
       "\n",
       "   Property_Type_is__D  Property_Type_is__F  Property_Type_is__S  \\\n",
       "0                    0                    0                    0   \n",
       "1                    0                    0                    1   \n",
       "2                    0                    0                    1   \n",
       "3                    0                    0                    1   \n",
       "4                    0                    0                    0   \n",
       "\n",
       "   Property_Type_is__T  \n",
       "0                    1  \n",
       "1                    0  \n",
       "2                    0  \n",
       "3                    0  \n",
       "4                    1  "
      ]
     },
     "execution_count": 70,
     "metadata": {},
     "output_type": "execute_result"
    }
   ],
   "source": [
    "df.head(5)"
   ]
  },
  {
   "cell_type": "code",
   "execution_count": 71,
   "metadata": {},
   "outputs": [],
   "source": [
    "df.to_csv(\"clean dataset.csv\", index=False)"
   ]
  },
  {
   "cell_type": "code",
   "execution_count": 2,
   "metadata": {},
   "outputs": [],
   "source": [
    "df = pd.read_csv(\"clean dataset.csv\")\n"
   ]
  },
  {
   "cell_type": "code",
   "execution_count": null,
   "metadata": {},
   "outputs": [],
   "source": [
    "# df.info()"
   ]
  },
  {
   "cell_type": "markdown",
   "metadata": {},
   "source": [
    "###  Test Train Spliting Data on the base of Years\n"
   ]
  },
  {
   "cell_type": "code",
   "execution_count": 3,
   "metadata": {},
   "outputs": [],
   "source": [
    "train_df = df[df[\"year\"] <= 2018]\n",
    "test_df = df[df[\"year\"] > 2018]"
   ]
  },
  {
   "cell_type": "code",
   "execution_count": 4,
   "metadata": {},
   "outputs": [
    {
     "data": {
      "text/plain": [
       "2002    1351313\n",
       "2006    1325684\n",
       "2007    1271944\n",
       "2001    1245428\n",
       "2003    1234939\n",
       "2004    1231579\n",
       "1999    1194538\n",
       "2000    1128984\n",
       "1997    1094112\n",
       "2005    1061108\n",
       "1998    1050180\n",
       "2016    1000076\n",
       "2015     990565\n",
       "2017     990333\n",
       "2014     971685\n",
       "2018     965139\n",
       "1996     965009\n",
       "2013     806369\n",
       "1995     796824\n",
       "2012     668533\n",
       "2010     663091\n",
       "2011     660937\n",
       "2008     649398\n",
       "2009     625079\n",
       "Name: year, dtype: int64"
      ]
     },
     "execution_count": 4,
     "metadata": {},
     "output_type": "execute_result"
    }
   ],
   "source": [
    "train_df.year.value_counts()"
   ]
  },
  {
   "cell_type": "code",
   "execution_count": 5,
   "metadata": {},
   "outputs": [
    {
     "data": {
      "text/plain": [
       "2021    1059377\n",
       "2019     940871\n",
       "2020     812545\n",
       "2022     289098\n",
       "Name: year, dtype: int64"
      ]
     },
     "execution_count": 5,
     "metadata": {},
     "output_type": "execute_result"
    }
   ],
   "source": [
    "test_df.year.value_counts()"
   ]
  },
  {
   "cell_type": "code",
   "execution_count": 6,
   "metadata": {},
   "outputs": [
    {
     "data": {
      "text/html": [
       "<div>\n",
       "<style scoped>\n",
       "    .dataframe tbody tr th:only-of-type {\n",
       "        vertical-align: middle;\n",
       "    }\n",
       "\n",
       "    .dataframe tbody tr th {\n",
       "        vertical-align: top;\n",
       "    }\n",
       "\n",
       "    .dataframe thead th {\n",
       "        text-align: right;\n",
       "    }\n",
       "</style>\n",
       "<table border=\"1\" class=\"dataframe\">\n",
       "  <thead>\n",
       "    <tr style=\"text-align: right;\">\n",
       "      <th></th>\n",
       "      <th>Price</th>\n",
       "      <th>Date of Transfer</th>\n",
       "      <th>PostCode</th>\n",
       "      <th>Old/New</th>\n",
       "      <th>Duration</th>\n",
       "      <th>House Number</th>\n",
       "      <th>Flat Type</th>\n",
       "      <th>Street</th>\n",
       "      <th>Locality</th>\n",
       "      <th>Town/City</th>\n",
       "      <th>District</th>\n",
       "      <th>County</th>\n",
       "      <th>year</th>\n",
       "      <th>month</th>\n",
       "      <th>day_of_month</th>\n",
       "      <th>Location</th>\n",
       "      <th>Property_Type_is__D</th>\n",
       "      <th>Property_Type_is__F</th>\n",
       "      <th>Property_Type_is__S</th>\n",
       "      <th>Property_Type_is__T</th>\n",
       "    </tr>\n",
       "  </thead>\n",
       "  <tbody>\n",
       "    <tr>\n",
       "      <th>0</th>\n",
       "      <td>10.778956</td>\n",
       "      <td>1995-01-27</td>\n",
       "      <td>LA1 1SY</td>\n",
       "      <td>N</td>\n",
       "      <td>1</td>\n",
       "      <td>26</td>\n",
       "      <td>NaN</td>\n",
       "      <td>PORTLAND STREET</td>\n",
       "      <td>LANCASTER</td>\n",
       "      <td>LANCASTER</td>\n",
       "      <td>LANCASTER</td>\n",
       "      <td>LANCASHIRE</td>\n",
       "      <td>1995</td>\n",
       "      <td>1</td>\n",
       "      <td>27</td>\n",
       "      <td>0</td>\n",
       "      <td>0</td>\n",
       "      <td>0</td>\n",
       "      <td>0</td>\n",
       "      <td>1</td>\n",
       "    </tr>\n",
       "    <tr>\n",
       "      <th>1</th>\n",
       "      <td>10.985293</td>\n",
       "      <td>1995-11-17</td>\n",
       "      <td>PL3 6DR</td>\n",
       "      <td>N</td>\n",
       "      <td>1</td>\n",
       "      <td>26</td>\n",
       "      <td>NaN</td>\n",
       "      <td>FAIRVIEW AVENUE</td>\n",
       "      <td>PLYMOUTH</td>\n",
       "      <td>PLYMOUTH</td>\n",
       "      <td>PLYMOUTH</td>\n",
       "      <td>DEVON</td>\n",
       "      <td>1995</td>\n",
       "      <td>11</td>\n",
       "      <td>17</td>\n",
       "      <td>0</td>\n",
       "      <td>0</td>\n",
       "      <td>0</td>\n",
       "      <td>1</td>\n",
       "      <td>0</td>\n",
       "    </tr>\n",
       "  </tbody>\n",
       "</table>\n",
       "</div>"
      ],
      "text/plain": [
       "       Price Date of Transfer PostCode Old/New  Duration House Number  \\\n",
       "0  10.778956       1995-01-27  LA1 1SY       N         1           26   \n",
       "1  10.985293       1995-11-17  PL3 6DR       N         1           26   \n",
       "\n",
       "  Flat Type           Street   Locality  Town/City   District      County  \\\n",
       "0       NaN  PORTLAND STREET  LANCASTER  LANCASTER  LANCASTER  LANCASHIRE   \n",
       "1       NaN  FAIRVIEW AVENUE   PLYMOUTH   PLYMOUTH   PLYMOUTH       DEVON   \n",
       "\n",
       "   year  month  day_of_month  Location  Property_Type_is__D  \\\n",
       "0  1995      1            27         0                    0   \n",
       "1  1995     11            17         0                    0   \n",
       "\n",
       "   Property_Type_is__F  Property_Type_is__S  Property_Type_is__T  \n",
       "0                    0                    0                    1  \n",
       "1                    0                    1                    0  "
      ]
     },
     "execution_count": 6,
     "metadata": {},
     "output_type": "execute_result"
    }
   ],
   "source": [
    "train_df.head(2)"
   ]
  },
  {
   "cell_type": "code",
   "execution_count": 7,
   "metadata": {},
   "outputs": [
    {
     "data": {
      "text/plain": [
       "Index(['Price', 'Date of Transfer', 'PostCode', 'Old/New', 'Duration',\n",
       "       'House Number', 'Flat Type', 'Street', 'Locality', 'Town/City',\n",
       "       'District', 'County', 'year', 'month', 'day_of_month', 'Location',\n",
       "       'Property_Type_is__D', 'Property_Type_is__F', 'Property_Type_is__S',\n",
       "       'Property_Type_is__T'],\n",
       "      dtype='object')"
      ]
     },
     "execution_count": 7,
     "metadata": {},
     "output_type": "execute_result"
    }
   ],
   "source": [
    "train_df.columns"
   ]
  },
  {
   "cell_type": "code",
   "execution_count": 8,
   "metadata": {},
   "outputs": [],
   "source": [
    "train_df = train_df[['Duration', 'Location','Property_Type_is__D', 'Property_Type_is__F', 'Property_Type_is__S','Property_Type_is__T', 'Price' ]]"
   ]
  },
  {
   "cell_type": "code",
   "execution_count": 9,
   "metadata": {},
   "outputs": [],
   "source": [
    "test_df = test_df[['Duration', 'Location','Property_Type_is__D', 'Property_Type_is__F', 'Property_Type_is__S','Property_Type_is__T', 'Price']]"
   ]
  },
  {
   "cell_type": "code",
   "execution_count": 10,
   "metadata": {},
   "outputs": [
    {
     "name": "stdout",
     "output_type": "stream",
     "text": [
      "Shape of Train Data: (23942847, 7)\n",
      "Shape of Test Data: (3101891, 7)\n"
     ]
    }
   ],
   "source": [
    "print(\"Shape of Train Data:\", train_df.shape)\n",
    "print(\"Shape of Test Data:\", test_df.shape)"
   ]
  },
  {
   "cell_type": "markdown",
   "metadata": {},
   "source": [
    "### Find corelation between overall columns"
   ]
  },
  {
   "cell_type": "code",
   "execution_count": 11,
   "metadata": {
    "scrolled": true
   },
   "outputs": [
    {
     "data": {
      "text/plain": [
       "<AxesSubplot:>"
      ]
     },
     "execution_count": 11,
     "metadata": {},
     "output_type": "execute_result"
    },
    {
     "data": {
      "image/png": "[encoded data removed]",
      "text/plain": [
       "<Figure size 1440x720 with 2 Axes>"
      ]
     },
     "metadata": {
      "needs_background": "light"
     },
     "output_type": "display_data"
    }
   ],
   "source": [
    "correlation = test_df.corr()\n",
    "fig, ax = plt.subplots(figsize=(20, 10))\n",
    "sns.heatmap(correlation, cmap = \"GnBu\", annot = True, )"
   ]
  },
  {
   "cell_type": "markdown",
   "metadata": {},
   "source": [
    "Here we can see that we have the correlation netween the features with the PRICE.Such as lease hold Duration,Location and Property type. "
   ]
  },
  {
   "cell_type": "markdown",
   "metadata": {},
   "source": [
    "### Slicing of data into features and dependent variable"
   ]
  },
  {
   "cell_type": "code",
   "execution_count": 12,
   "metadata": {},
   "outputs": [],
   "source": [
    "X_train = train_df[['Duration', 'Location','Property_Type_is__D', 'Property_Type_is__F', 'Property_Type_is__S','Property_Type_is__T' ]]"
   ]
  },
  {
   "cell_type": "code",
   "execution_count": 13,
   "metadata": {},
   "outputs": [],
   "source": [
    "y_train = train_df[[ 'Price' ]]"
   ]
  },
  {
   "cell_type": "code",
   "execution_count": 14,
   "metadata": {},
   "outputs": [
    {
     "name": "stdout",
     "output_type": "stream",
     "text": [
      "Shape of Train Data: (23942847, 6)\n",
      "Shape of Test Data: (23942847, 1)\n"
     ]
    }
   ],
   "source": [
    "print(\"Shape of Train Data:\", X_train.shape)\n",
    "print(\"Shape of Test Data:\", y_train.shape)"
   ]
  },
  {
   "cell_type": "markdown",
   "metadata": {},
   "source": [
    "# Here I commented it mistakenly and now I checked again and I got good results by uncommenting it"
   ]
  },
  {
   "cell_type": "markdown",
   "metadata": {},
   "source": [
    "### Feature Scaling for training datatset"
   ]
  },
  {
   "cell_type": "code",
   "execution_count": 16,
   "metadata": {},
   "outputs": [],
   "source": [
    "from sklearn.preprocessing import StandardScaler\n",
    "sc_X = StandardScaler()\n",
    "sc_y = StandardScaler()\n",
    "X_train = sc_X.fit_transform(X_train)\n",
    "y_train = sc_y.fit_transform(y_train)"
   ]
  },
  {
   "cell_type": "code",
   "execution_count": 17,
   "metadata": {},
   "outputs": [
    {
     "data": {
      "text/plain": [
       "array([[ 0.55717585, -0.29123338, -0.55013039, -0.47367064, -0.61969121,\n",
       "         1.5026006 ],\n",
       "       [ 0.55717585, -0.29123338, -0.55013039, -0.47367064,  1.61370693,\n",
       "        -0.66551285],\n",
       "       [ 0.55717585, -0.29123338, -0.55013039, -0.47367064,  1.61370693,\n",
       "        -0.66551285],\n",
       "       ...,\n",
       "       [-1.79476552, -0.29123338, -0.55013039,  2.11117159, -0.61969121,\n",
       "        -0.66551285],\n",
       "       [ 0.55717585, -0.29123338, -0.55013039, -0.47367064, -0.61969121,\n",
       "         1.5026006 ],\n",
       "       [ 0.55717585, -0.29123338,  1.81775089, -0.47367064, -0.61969121,\n",
       "        -0.66551285]])"
      ]
     },
     "execution_count": 17,
     "metadata": {},
     "output_type": "execute_result"
    }
   ],
   "source": [
    "X_train"
   ]
  },
  {
   "cell_type": "code",
   "execution_count": 18,
   "metadata": {},
   "outputs": [
    {
     "data": {
      "text/plain": [
       "array([[-1.33329287],\n",
       "       [-1.05995655],\n",
       "       [-0.83443328],\n",
       "       ...,\n",
       "       [-0.28368071],\n",
       "       [ 0.13117378],\n",
       "       [ 1.24033119]])"
      ]
     },
     "execution_count": 18,
     "metadata": {},
     "output_type": "execute_result"
    }
   ],
   "source": [
    "y_train"
   ]
  },
  {
   "cell_type": "code",
   "execution_count": 19,
   "metadata": {},
   "outputs": [],
   "source": [
    "X_test = test_df[['Duration', 'Location','Property_Type_is__D', 'Property_Type_is__F', 'Property_Type_is__S','Property_Type_is__T']]"
   ]
  },
  {
   "cell_type": "code",
   "execution_count": 20,
   "metadata": {},
   "outputs": [],
   "source": [
    "y_test = test_df[['Price']]"
   ]
  },
  {
   "cell_type": "code",
   "execution_count": 21,
   "metadata": {},
   "outputs": [
    {
     "name": "stdout",
     "output_type": "stream",
     "text": [
      "Shape of Train Data: (3101891, 6)\n",
      "Shape of Test Data: (3101891, 1)\n"
     ]
    }
   ],
   "source": [
    "print(\"Shape of Train Data:\", X_test.shape)\n",
    "print(\"Shape of Test Data:\", y_test.shape)"
   ]
  },
  {
   "cell_type": "markdown",
   "metadata": {},
   "source": [
    "### Feature Scaling for testing datatset"
   ]
  },
  {
   "cell_type": "code",
   "execution_count": 22,
   "metadata": {},
   "outputs": [],
   "source": [
    "\n",
    "from sklearn.preprocessing import StandardScaler\n",
    "sc_X = StandardScaler()\n",
    "sc_y = StandardScaler()\n",
    "X_test = sc_X.fit_transform(X_test)\n",
    "y_test = sc_y.fit_transform(y_test)"
   ]
  },
  {
   "cell_type": "code",
   "execution_count": 23,
   "metadata": {},
   "outputs": [],
   "source": [
    "from sklearn.metrics import mean_squared_error,mean_absolute_error,explained_variance_score, r2_score"
   ]
  },
  {
   "cell_type": "code",
   "execution_count": 46,
   "metadata": {},
   "outputs": [],
   "source": [
    "def evaluation(model, x_train_std, y_train, x_test, y_test, train = True):\n",
    "    if train == True:\n",
    "        pred = model.predict(x_train_std)\n",
    "        \n",
    "        print(\"Train Result:\\n================================================\")\n",
    "        print(f\"Root Mean Squared Error: {np.sqrt(mean_squared_error(y_train, pred))}\")\n",
    "        print(\"_______________________________________________\")\n",
    "        print(f\"Mean Squared Error: {mean_squared_error(y_train, pred)}\")\n",
    "        print(\"_______________________________________________\")\n",
    "        print(f\"Mean Absolute Error: \\n{mean_absolute_error(y_train, pred)}\")\n",
    "        print(\"_______________________________________________\")\n",
    "        print(f\"Explained Variance Score (EVS): \\n{np.sqrt(metrics.mean_squared_error(y_train, pred))}\")\n",
    "        print(\"_______________________________________________\")\n",
    "        print(f\"R2: \\n{metrics.r2_score(y_train, pred)}\")\n",
    "        print(\"_______________________________________________\")\n",
    "        print(f\"R2 rounded: \\n{metrics.r2_score(y_train, pred).round(2)}\")\n",
    "        print(\"_______________________________________________\")\n",
    "        \n",
    "   \n",
    "    if train == False:\n",
    "        pred = model.predict(x_test)\n",
    "        \n",
    "        print(\"Test Result:\\n================================================\")\n",
    "        print(f\"Root Mean Squared Error: {np.sqrt(mean_squared_error(y_test, pred))}\")\n",
    "        print(\"_______________________________________________\")\n",
    "        print(f\"Mean Squared Error: {mean_squared_error(y_test, pred)}\")\n",
    "        print(\"_______________________________________________\")\n",
    "        print(f\"Mean Absolute Error: \\n{mean_absolute_error(y_test, pred)}\")\n",
    "        print(\"_______________________________________________\")\n",
    "        print(f\"Explained Variance Score (EVS): \\n{np.sqrt(metrics.mean_squared_error(y_test, pred))}\")\n",
    "        print(\"_______________________________________________\")\n",
    "        print(f\"R2: \\n{metrics.r2_score(y_test, pred)}\")\n",
    "        print(\"_______________________________________________\")\n",
    "        print(f\"R2 rounded: \\n{metrics.r2_score(y_test, pred).round(2)}\")\n",
    "        print(\"_______________________________________________\")\n"
   ]
  },
  {
   "cell_type": "code",
   "execution_count": 51,
   "metadata": {},
   "outputs": [],
   "source": [
    "# def predict(ml_model):          \n",
    "#     model=ml_model.fit(X_train,y_train)\n",
    "#     print('Training score : {}'.format(model.score(X_train,y_train)))\n",
    "#     y_prediction=model.predict(X_test)\n",
    "#     print('predictions are: \\n {}'.format(y_prediction[:10]))\n",
    "#     print('\\n')\n",
    "#     r2_score=metrics.r2_score(y_test,y_prediction)\n",
    "#     print('r2 score: {}'.format(r2_score))\n",
    "#     print('MAE:',metrics.mean_absolute_error(y_test,y_prediction))\n",
    "#     print('MSE:',metrics.mean_squared_error(y_test,y_prediction))\n",
    "#     print('RMSE:',np.sqrt(metrics.mean_squared_error(y_test,y_prediction)))\n",
    "# #     sns.distplot(y_test-y_prediction)"
   ]
  },
  {
   "cell_type": "code",
   "execution_count": 53,
   "metadata": {},
   "outputs": [],
   "source": [
    "# predict(ls)"
   ]
  },
  {
   "cell_type": "markdown",
   "metadata": {},
   "source": [
    "### Lasso Regression"
   ]
  },
  {
   "cell_type": "code",
   "execution_count": 48,
   "metadata": {
    "scrolled": true
   },
   "outputs": [
    {
     "name": "stdout",
     "output_type": "stream",
     "text": [
      "Train Result:\n",
      "================================================\n",
      "Root Mean Squared Error: 0.9212142365613168\n",
      "_______________________________________________\n",
      "Mean Squared Error: 0.8486356696432499\n",
      "_______________________________________________\n",
      "Mean Absolute Error: \n",
      "0.7472385876722597\n",
      "_______________________________________________\n",
      "Explained Variance Score (EVS): \n",
      "0.9212142365613168\n",
      "_______________________________________________\n",
      "R2: \n",
      "0.15136433035675034\n",
      "_______________________________________________\n",
      "R2 rounded: \n",
      "0.15\n",
      "_______________________________________________\n",
      "Test Result:\n",
      "================================================\n",
      "Root Mean Squared Error: 0.8903499567234797\n",
      "_______________________________________________\n",
      "Mean Squared Error: 0.7927230454375022\n",
      "_______________________________________________\n",
      "Mean Absolute Error: \n",
      "0.7140309926210415\n",
      "_______________________________________________\n",
      "Explained Variance Score (EVS): \n",
      "0.8903499567234797\n",
      "_______________________________________________\n",
      "R2: \n",
      "0.20727695456249762\n",
      "_______________________________________________\n",
      "R2 rounded: \n",
      "0.21\n",
      "_______________________________________________\n"
     ]
    }
   ],
   "source": [
    "from sklearn.linear_model import Lasso\n",
    "ls = Lasso(alpha = 0.1)\n",
    "ls.fit(X_train, y_train)\n",
    "\n",
    "evaluation(ls, X_train, y_train, X_test, y_test, True)\n",
    "evaluation(ls, X_train, y_train, X_test, y_test, False)"
   ]
  },
  {
   "cell_type": "markdown",
   "metadata": {},
   "source": [
    "### Ridge Regression"
   ]
  },
  {
   "cell_type": "code",
   "execution_count": 49,
   "metadata": {
    "scrolled": true
   },
   "outputs": [
    {
     "name": "stdout",
     "output_type": "stream",
     "text": [
      "Train Result:\n",
      "================================================\n",
      "Root Mean Squared Error: 0.9010610998760182\n",
      "_______________________________________________\n",
      "Mean Squared Error: 0.8119111057097796\n",
      "_______________________________________________\n",
      "Mean Absolute Error: \n",
      "0.73235833607144\n",
      "_______________________________________________\n",
      "Explained Variance Score (EVS): \n",
      "0.9010610998760182\n",
      "_______________________________________________\n",
      "R2: \n",
      "0.18808889429022047\n",
      "_______________________________________________\n",
      "R2 rounded: \n",
      "0.19\n",
      "_______________________________________________\n",
      "Test Result:\n",
      "================================================\n",
      "Root Mean Squared Error: 0.8419338363396238\n",
      "_______________________________________________\n",
      "Mean Squared Error: 0.7088525847735564\n",
      "_______________________________________________\n",
      "Mean Absolute Error: \n",
      "0.6737144919293468\n",
      "_______________________________________________\n",
      "Explained Variance Score (EVS): \n",
      "0.8419338363396238\n",
      "_______________________________________________\n",
      "R2: \n",
      "0.2911474152264435\n",
      "_______________________________________________\n",
      "R2 rounded: \n",
      "0.29\n",
      "_______________________________________________\n"
     ]
    }
   ],
   "source": [
    "# Ridge Regression\n",
    "from sklearn.linear_model import Ridge\n",
    "ridge = Ridge(alpha = 0.1)\n",
    "ridge.fit(X_train, y_train)\n",
    "\n",
    "evaluation(ridge, X_train, y_train, X_test, y_test, True)\n",
    "evaluation(ridge, X_train, y_train, X_test, y_test, False)"
   ]
  },
  {
   "cell_type": "markdown",
   "metadata": {},
   "source": [
    "As we can see that our results are best now after standerdization and the model is performing very well and R2 score is also good which means no more overfitting."
   ]
  },
  {
   "cell_type": "markdown",
   "metadata": {},
   "source": [
    "# Model Evaluation "
   ]
  },
  {
   "cell_type": "code",
   "execution_count": 55,
   "metadata": {},
   "outputs": [
    {
     "name": "stdout",
     "output_type": "stream",
     "text": [
      "Lasso Intercept [-1.14496038e-08]\n",
      "Lasso Coef [[ 1.47743393e-01  2.83382373e-01 -3.66388113e+07 -3.35635014e+07\n",
      "  -3.88450023e+07 -4.00146756e+07]]\n",
      "--------------------------------------------------\n",
      "Reig Intercept [-1.14496038e-08]\n",
      "Reid Coef [[ 1.47743393e-01  2.83382373e-01 -3.66388113e+07 -3.35635014e+07\n",
      "  -3.88450023e+07 -4.00146756e+07]]\n"
     ]
    }
   ],
   "source": [
    "\n",
    "# Let's evaluate the model by checking out it's coefficients and how we can interpret them.\n",
    "\n",
    "# print the intercept\n",
    "print('Lasso Intercept',lm.intercept_)\n",
    "print('Lasso Coef',lm.coef_)\n",
    "print(\"--------------------------------------------------\")\n",
    "print('Reig Intercept',lm.intercept_)\n",
    "print('Reid Coef',lm.coef_)"
   ]
  },
  {
   "cell_type": "markdown",
   "metadata": {},
   "source": [
    "Here we just gave some model evaluation results such as intercept Reid coef"
   ]
  }
 ],
 "metadata": {
  "kernelspec": {
   "display_name": "Python 3",
   "language": "python",
   "name": "python3"
  },
  "language_info": {
   "codemirror_mode": {
    "name": "ipython",
    "version": 3
   },
   "file_extension": ".py",
   "mimetype": "text/x-python",
   "name": "python",
   "nbconvert_exporter": "python",
   "pygments_lexer": "ipython3",
   "version": "3.7.1"
  }
 },
 "nbformat": 4,
 "nbformat_minor": 4
}
